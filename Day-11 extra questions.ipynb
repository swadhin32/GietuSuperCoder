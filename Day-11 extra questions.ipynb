{
 "cells": [
  {
   "cell_type": "markdown",
   "id": "engaged-emergency",
   "metadata": {},
   "source": [
    "Write a python lambda expression for calculating simple interest.\n",
    "If simple interest is greater than 1000, display as “Platinum Member”, otherwise “Gold Member”.\n",
    "Use the below formula to calculate the simple interest.\n",
    "simple_interest=(principal_amount*duration in years*rate_of_interest)/100"
   ]
  },
  {
   "cell_type": "code",
   "execution_count": 5,
   "id": "representative-locator",
   "metadata": {},
   "outputs": [
    {
     "name": "stdout",
     "output_type": "stream",
     "text": [
      "Gold Member\n"
     ]
    }
   ],
   "source": [
    "sim = lambda p,r,t: (p*r*t)/100\n",
    "if sim(1000,10,3)>1000:\n",
    "    print(\"Platinum Member\")\n",
    "else:\n",
    "    print(\"Gold Member\")"
   ]
  },
  {
   "cell_type": "markdown",
   "id": "rational-mission",
   "metadata": {},
   "source": [
    "Write a python lambda expression for the following:\n",
    "1. Find the modulo of two numbers and add it to the difference of the same two numbers.\n",
    "2. Find the square root of a number using math library built-in function.\n",
    "3. Find the square root of a number without using built-in function."
   ]
  },
  {
   "cell_type": "code",
   "execution_count": 6,
   "id": "informational-tomato",
   "metadata": {},
   "outputs": [],
   "source": [
    "import math\n",
    "no1 = lambda a,b: (a-b)+(a%b)\n",
    "no2 = lambda a: math.sqrt(a)\n",
    "no3 = lambda a: a**0.5"
   ]
  },
  {
   "cell_type": "code",
   "execution_count": 9,
   "id": "therapeutic-messenger",
   "metadata": {},
   "outputs": [
    {
     "name": "stdout",
     "output_type": "stream",
     "text": [
      "12.0\n",
      "12.0\n",
      "8\n"
     ]
    }
   ],
   "source": [
    "print(no3(144))\n",
    "print(no2(144))\n",
    "print(no1(10,4))"
   ]
  },
  {
   "cell_type": "markdown",
   "id": "earned-sector",
   "metadata": {},
   "source": [
    "Write a higher order function, sum_all() to calculate the sum of elements in a list.\n",
    "sum_all() – It accepts a list and calculates the sum of the elements in the list based on the conditions being checked in the lambda expressions passed to it.\n",
    "Only those values satisfying the condition should be included in the sum.\n",
    "Write the following lambda expressions.\n",
    "1. greater: To check whether a given number is greater than 10.\n",
    "2. divide: To check whether a given number is divisible by 10 and not greater than 100.\n",
    "3. range_of_values: To check whether a given number is between 25 and 50 (Both inclusive)."
   ]
  },
  {
   "cell_type": "code",
   "execution_count": 14,
   "id": "numerical-suffering",
   "metadata": {},
   "outputs": [
    {
     "name": "stdout",
     "output_type": "stream",
     "text": [
      "greater: 449\n",
      "divide: 120\n",
      "range_of_values: 77\n"
     ]
    }
   ],
   "source": [
    "from functools import reduce\n",
    "def sum_all(list1,lambfun):\n",
    "    return reduce((lambda x,y:x+y),list(filter(lambfun, list1)))\n",
    "greater = lambda x: x>10\n",
    "divide = lambda x: not x%10 and x<=100\n",
    "range_of_values = lambda x: 25<=x<=50\n",
    "list1 = [27,22,5,7,50,70,280]\n",
    "print(\"greater:\",sum_all(list1,greater))\n",
    "print(\"divide:\",sum_all(list1,divide))\n",
    "print(\"range_of_values:\",sum_all(list1,range_of_values))"
   ]
  },
  {
   "cell_type": "markdown",
   "id": "gross-commercial",
   "metadata": {},
   "source": [
    "Consider that the human tower is to be performed on a stage\n",
    "and the stage has a maximum weight limit.\n",
    "Write a python program to find the maximum number of people\n",
    "at the base level such that the total weight of tower does\n",
    "not exceed the \n",
    "maximum weight limit of the stage.\n",
    "Assume that:\n",
    "1. Each person weighs 50 kg\n",
    "2. There will always be odd number of men at the base level\n",
    "of the human tower."
   ]
  },
  {
   "cell_type": "code",
   "execution_count": 28,
   "id": "cellular-gamma",
   "metadata": {},
   "outputs": [
    {
     "name": "stdout",
     "output_type": "stream",
     "text": [
      "230\n",
      "maximum 3 no of peopole possible\n"
     ]
    }
   ],
   "source": [
    "max_we = int(input())\n",
    "if (max_we//50)%2==0 and (max_we//50!=0):\n",
    "    print(\"maximum\",max_we//50-1,\"no of peopole possible\")\n",
    "else:\n",
    "    print(\"maximum\",max_we//50,\"no of peopole possible\")"
   ]
  },
  {
   "cell_type": "markdown",
   "id": "maritime-crystal",
   "metadata": {},
   "source": [
    "A non empty string instr containing only parenthesis (,),{.},[,] it return outstr based on following,\n",
    "- instr is properly nested and return 0\n",
    "- instr not properly nested, return position of element in instr\n",
    "- position start from 1\n",
    "\n",
    "- Input: {([])} Output: 0\n",
    "- Input: (])()] Output: 3\n",
    "- Input: [[()]  Output: n+1 for last element i.e 5+1=6"
   ]
  },
  {
   "cell_type": "code",
   "execution_count": null,
   "id": "formal-prediction",
   "metadata": {},
   "outputs": [],
   "source": []
  },
  {
   "cell_type": "raw",
   "id": "acknowledged-tiffany",
   "metadata": {},
   "source": [
    "For a given list of numbers find the its factors and add the factors then if the sum of all factor is present in original list, sort it and print it\n",
    "Ex:\n",
    "Input: 0,1,6\n",
    "Factors: 0 = 0, sum =0\n",
    "1 = 1, sum =1\n",
    "6 =1,2,3 = sum =6\n",
    "Output: 1,6\n",
    "If the sum is not present in the list then return -1."
   ]
  },
  {
   "cell_type": "code",
   "execution_count": 41,
   "id": "transsexual-large",
   "metadata": {},
   "outputs": [
    {
     "name": "stdout",
     "output_type": "stream",
     "text": [
      "0,1,6\n",
      "[1, 6]\n"
     ]
    }
   ],
   "source": [
    "list1 = [int(x) for x in input().split(',')]\n",
    "list2=[]\n",
    "for i in list1:\n",
    "    sum=0\n",
    "    for j in range(1,i):\n",
    "        if i%j==0:\n",
    "            sum=sum+j\n",
    "    if sum==i and i!=0:\n",
    "        list2.append(sum)\n",
    "    elif i==1:\n",
    "        list2.append(1)\n",
    "    elif i==0:\n",
    "        continue\n",
    "    else:\n",
    "        list2.append(-1)\n",
    "print(list2)"
   ]
  },
  {
   "cell_type": "raw",
   "id": "conscious-british",
   "metadata": {},
   "source": [
    "An array is given suppose a =[3,5,8,2,19,12,7,11] One have to find the largest subarray that the element satisfy the following condition\n",
    "x[i]=x[i-1]+x[i-2] If more than one substring if found then largets one has to print the array which starts with the minimum elements and if they are also same then the array with minimum second element and so on.\n",
    "Here the subarrays |2,3,5,8],[3,8,11],[5,7,12,19] \n",
    "Expected is [2,3,5,8]"
   ]
  },
  {
   "cell_type": "code",
   "execution_count": 78,
   "id": "secret-first",
   "metadata": {},
   "outputs": [
    {
     "name": "stdout",
     "output_type": "stream",
     "text": [
      "[2, 5, 7, 12, 19]\n"
     ]
    }
   ],
   "source": [
    "list1 = [3,5,8,2,19,12,7,11]\n",
    "list2 = sorted(list1)\n",
    "list3=[]\n",
    "for i in range(0,len(list1)-1):\n",
    "    list4=[]\n",
    "    for j in range(i+1,len(list2)):\n",
    "        if list2[i]+list2[j] in list2:\n",
    "            list4.append(list2[i])\n",
    "            list4.append(list2[j])\n",
    "            k=0\n",
    "            l=1\n",
    "            while list4[k]+list4[l] in list1:\n",
    "                list4.append(list4[k]+list4[l])\n",
    "                k,l=l,l+1\n",
    "            list3.append(list4)\n",
    "            list4=[]\n",
    "            \n",
    "# For finding desired subarray\n",
    "def myFunc(e):\n",
    "    return len(e)\n",
    "list3.sort(key=myFunc,reverse=True)\n",
    "maxm=0\n",
    "res=None\n",
    "for i in list3:\n",
    "    if len(i)<maxm:\n",
    "        break\n",
    "    elif len(i)==maxm:\n",
    "        if i[0]<res[0]:\n",
    "            res=i\n",
    "        elif i[0]==res[0]:\n",
    "            if i[1]<res[i]:\n",
    "                res=i\n",
    "    if i==list3[0]:\n",
    "        res=i\n",
    "        maxm=len(i)\n",
    "print(res)"
   ]
  },
  {
   "cell_type": "raw",
   "id": "saved-framework",
   "metadata": {},
   "source": [
    "Write a python program that it should consist of special charnumbers and chars. if there are even numbers of special chars Then the series should start with even followed by odd\n",
    "Input: 19@a42&516\n",
    "Output: 492561\n",
    "If there are odd numbers of special chars then the output will be starting with odd followed by even\n",
    "Input: 5u6@25g7#@\n",
    "Output: 56527\n",
    "If there are any number of additional digits append them at\n",
    " last"
   ]
  },
  {
   "cell_type": "code",
   "execution_count": 95,
   "id": "relative-accreditation",
   "metadata": {},
   "outputs": [
    {
     "name": "stdout",
     "output_type": "stream",
     "text": [
      "5u6@25g7#@\n",
      "56527\n"
     ]
    }
   ],
   "source": [
    "list1 = input()\n",
    "count=0\n",
    "odd=[]\n",
    "even=[]\n",
    "res=[]\n",
    "for i in list1:\n",
    "    if i.isdigit() and int(i)%2==0:\n",
    "        even.append(i)\n",
    "    if i.isdigit() and int(i)%2!=0:\n",
    "        odd.append(i)\n",
    "    if not i.isalnum():\n",
    "        count=count+1\n",
    "ind=1\n",
    "if count%2:\n",
    "    for i in even:\n",
    "        odd.insert(ind,i)\n",
    "        ind=ind+2\n",
    "    print(''.join(odd))\n",
    "else:\n",
    "    for i in odd:\n",
    "        even.insert(ind,i)\n",
    "        ind=ind+2\n",
    "    print(''.join(even))"
   ]
  },
  {
   "cell_type": "raw",
   "id": "moral-ambassador",
   "metadata": {},
   "source": [
    "Special string reverse\n",
    "\n",
    "special string reverse\n",
    "Input Format: b@rd\n",
    "output Format: d@rb\n",
    "Explanation:\n",
    "We should reverse the alphabets of the string by keeping the \n",
    "special characters in the same position."
   ]
  },
  {
   "cell_type": "code",
   "execution_count": 118,
   "id": "acute-count",
   "metadata": {},
   "outputs": [
    {
     "name": "stdout",
     "output_type": "stream",
     "text": [
      "b@rd\n",
      "d@rb\n"
     ]
    }
   ],
   "source": [
    "list1 = input()\n",
    "spec = 0\n",
    "list2=[]\n",
    "list3=[]\n",
    "for i in range(0,len(list1)):\n",
    "    if list1[i].isalnum():\n",
    "        list2.append(list1[i])\n",
    "    else:\n",
    "        list3.append((i,list1[i]))\n",
    "list2.reverse()\n",
    "for i in list3:\n",
    "    list2.insert(i[0],i[1])\n",
    "print(''.join(list2))"
   ]
  },
  {
   "cell_type": "raw",
   "id": "systematic-virginia",
   "metadata": {},
   "source": [
    "Given input of array of string in format <emnp name> <emp number> separated by comas ,Emp\n",
    "should contain only alphabets and employee number. You have to generate password for\n",
    "Ex:\n",
    "input: Robert: 36787, Tina: 68721, Jo:56389\n",
    "Output: tiX\n",
    "Conditions: len of robert is 6 and 6 is present in emp number\n",
    "robert (36787), so return the alphabet at position 6 that is t.\n",
    "Now len of tina is 4 and 3 is not present in the 68721 so select the number which is max and less than the len of tina so select 2 return the alphabet that is at position 2 that is i.\n",
    "Now In of Jo is 2 it is not present in 56389 and there is not present any number which is less than 2 so return X."
   ]
  },
  {
   "cell_type": "code",
   "execution_count": 170,
   "id": "military-hebrew",
   "metadata": {},
   "outputs": [
    {
     "name": "stdout",
     "output_type": "stream",
     "text": [
      "Robert:36787,Tina:68721,Jo:56389\n",
      "t\n",
      "i\n",
      "x\n"
     ]
    }
   ],
   "source": [
    "list1=[]\n",
    "res = []\n",
    "for i in input().split(','):\n",
    "    if str(len(i.split(':')[0])) in i.split(':')[1]:\n",
    "        print(i.split(':')[0][len(i.split(':')[0])-1])\n",
    "    elif int(sorted(i.split(':')[1])[0])>len(i.split(':')[0]):\n",
    "        print('x')\n",
    "    else:\n",
    "        for j in sorted(i.split(':')[1]):\n",
    "            if int(j)>len(i.split(':')[0]):\n",
    "                print(i.split(':')[0][prev-1])\n",
    "                break\n",
    "            prev=int(j)\n",
    "    list1.append(tuple(i.split(':')))"
   ]
  }
 ],
 "metadata": {
  "kernelspec": {
   "display_name": "Python 3",
   "language": "python",
   "name": "python3"
  },
  "language_info": {
   "codemirror_mode": {
    "name": "ipython",
    "version": 3
   },
   "file_extension": ".py",
   "mimetype": "text/x-python",
   "name": "python",
   "nbconvert_exporter": "python",
   "pygments_lexer": "ipython3",
   "version": "3.7.1"
  }
 },
 "nbformat": 4,
 "nbformat_minor": 5
}
