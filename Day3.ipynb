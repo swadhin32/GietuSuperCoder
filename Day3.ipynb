{
 "cells": [
  {
   "cell_type": "code",
   "execution_count": 4,
   "id": "paperback-jamaica",
   "metadata": {},
   "outputs": [
    {
     "name": "stdout",
     "output_type": "stream",
     "text": [
      "[0, 1, 2, 3, 4, 5, 6, 7, 8, 9, 10]\n",
      "[0, 1, 2, 3, 4, 5, 6, 7, 8, 9, 10]\n",
      "[1, 3, 5, 7, 9]\n",
      "[1, 3, 5, 7, 9]\n"
     ]
    }
   ],
   "source": [
    "#List Comprehension\n",
    "\n",
    "#for loop version\n",
    "result = []\n",
    "for i in range(11):\n",
    "    result.append(i)\n",
    "print(result)\n",
    "#List comprehension version\n",
    "print([i for i in range(11)])\n",
    "#for loop version-->odd elements\n",
    "result = []\n",
    "for i in range(11):\n",
    "    if i%2!=0:\n",
    "        result.append(i)\n",
    "print(result)\n",
    "print([i for i in range(11)if i%2!=0])"
   ]
  },
  {
   "cell_type": "code",
   "execution_count": 5,
   "id": "hundred-leone",
   "metadata": {},
   "outputs": [
    {
     "name": "stdout",
     "output_type": "stream",
     "text": [
      "[0, 1, 4, 3, 16, 5, 36, 7, 64, 9, 100]\n"
     ]
    }
   ],
   "source": [
    "print([i if i%2!=0 else i**2 for i in range(11)])"
   ]
  },
  {
   "cell_type": "code",
   "execution_count": 6,
   "id": "sublime-german",
   "metadata": {},
   "outputs": [
    {
     "name": "stdout",
     "output_type": "stream",
     "text": [
      "[0, 1, 2, 9, 4, 25, 6, 49, 8, 81, 10]\n"
     ]
    }
   ],
   "source": [
    "print([i if i%2==0 else i**2 for i in range(11)])"
   ]
  },
  {
   "cell_type": "markdown",
   "id": "possible-bulgaria",
   "metadata": {},
   "source": [
    "## List Compreshenssion For 2-Dimensional Data"
   ]
  },
  {
   "cell_type": "code",
   "execution_count": 12,
   "id": "ignored-group",
   "metadata": {},
   "outputs": [
    {
     "data": {
      "text/plain": [
       "[1, 8, 9, 64, 25, 216, 49, 512, 81, 1000, 121, 1728, 169, 2744, 225, 4096]"
      ]
     },
     "execution_count": 12,
     "metadata": {},
     "output_type": "execute_result"
    }
   ],
   "source": [
    "mat = [[1,2,3,4],[5,6,7,8],[9,10,11,12],[13,14,15,16]]\n",
    "l1 = []\n",
    "for i in mat:\n",
    "    for j in i:\n",
    "        if j%2==1:\n",
    "            l1.append(j**2)\n",
    "        else:\n",
    "            l1.append(j**3)\n",
    "l1"
   ]
  },
  {
   "cell_type": "code",
   "execution_count": 20,
   "id": "proof-method",
   "metadata": {},
   "outputs": [
    {
     "data": {
      "text/plain": [
       "[1, 8, 9, 64, 25, 216, 49, 512, 81, 1000, 121, 1728, 169, 2744, 225, 4096]"
      ]
     },
     "execution_count": 20,
     "metadata": {},
     "output_type": "execute_result"
    }
   ],
   "source": [
    "[j**2 if j%2==1 else j**3 for i in mat for j in i]"
   ]
  },
  {
   "cell_type": "code",
   "execution_count": 34,
   "id": "pretty-management",
   "metadata": {},
   "outputs": [
    {
     "data": {
      "text/plain": [
       "[[1, 8, 9, 64],\n",
       " [25, 216, 49, 512],\n",
       " [81, 1000, 121, 1728],\n",
       " [169, 2744, 225, 4096]]"
      ]
     },
     "execution_count": 34,
     "metadata": {},
     "output_type": "execute_result"
    }
   ],
   "source": [
    "mat = [[1,2,3,4],[5,6,7,8],[9,10,11,12],[13,14,15,16]]\n",
    "t = [ [0]*4 for i in range(4)]\n",
    "for i in range(4):\n",
    "    for j in range(4):\n",
    "        if mat[i][j]%2==1:\n",
    "            t[i][j]=mat[i][j]**2\n",
    "        else:\n",
    "            t[i][j]=mat[i][j]**3\n",
    "t"
   ]
  },
  {
   "cell_type": "code",
   "execution_count": 37,
   "id": "dedicated-singing",
   "metadata": {},
   "outputs": [
    {
     "data": {
      "text/plain": [
       "[[1, 8, 9, 64],\n",
       " [25, 216, 49, 512],\n",
       " [81, 1000, 121, 1728],\n",
       " [169, 2744, 225, 4096]]"
      ]
     },
     "execution_count": 37,
     "metadata": {},
     "output_type": "execute_result"
    }
   ],
   "source": [
    "[[mat[i][j]**2 if mat[i][j]%2==1 else mat[i][j]**3 for j in range(4)] for i in range(4)]"
   ]
  },
  {
   "cell_type": "code",
   "execution_count": 38,
   "id": "conscious-overview",
   "metadata": {},
   "outputs": [
    {
     "data": {
      "text/plain": [
       "[[1, 8, 9, 64],\n",
       " [25, 216, 49, 512],\n",
       " [81, 1000, 121, 1728],\n",
       " [169, 2744, 225, 4096]]"
      ]
     },
     "execution_count": 38,
     "metadata": {},
     "output_type": "execute_result"
    }
   ],
   "source": [
    "[[ele**2 if ele%2!=0 else ele**3 for ele in row] for row in mat]"
   ]
  },
  {
   "cell_type": "markdown",
   "id": "hybrid-handling",
   "metadata": {},
   "source": [
    "# Paired Output List Comprehenssion"
   ]
  },
  {
   "cell_type": "code",
   "execution_count": 43,
   "id": "strong-worship",
   "metadata": {},
   "outputs": [
    {
     "data": {
      "text/plain": [
       "[(6, 2), (4, 8), (6, 2), (1, 3), (2, 7), (2, 7)]"
      ]
     },
     "execution_count": 43,
     "metadata": {},
     "output_type": "execute_result"
    }
   ],
   "source": [
    "my_list = [9,3,6,1,5,0,8,2,4,7]\n",
    "list_b = [6,4,6,1,2,2]\n",
    "[(i,my_list.index(i)) for i in list_b]"
   ]
  },
  {
   "cell_type": "code",
   "execution_count": 46,
   "id": "native-traffic",
   "metadata": {},
   "outputs": [
    {
     "data": {
      "text/plain": [
       "[(6, 2), (4, 8), (6, 2), (1, 3), (2, 7), (2, 7)]"
      ]
     },
     "execution_count": 46,
     "metadata": {},
     "output_type": "execute_result"
    }
   ],
   "source": [
    "my_list = [9,3,6,1,5,0,8,2,4,7]\n",
    "list_b = [6,4,6,1,2,2]\n",
    "l1=[]\n",
    "for i in list_b:\n",
    "    l1.append((i,my_list.index(i)))\n",
    "l1"
   ]
  },
  {
   "cell_type": "code",
   "execution_count": 70,
   "id": "bridal-regard",
   "metadata": {},
   "outputs": [
    {
     "data": {
      "text/plain": [
       "[{2, 6}, {4, 8}, {2, 6}, {1, 3}, {2, 7}, {2, 7}]"
      ]
     },
     "execution_count": 70,
     "metadata": {},
     "output_type": "execute_result"
    }
   ],
   "source": [
    "my_list = [9,3,6,1,5,0,8,2,4,7]\n",
    "list_b = [6,4,6,1,2,2]\n",
    "mnop = [{i,my_list.index(i)} for i in list_b]\n",
    "mnop"
   ]
  },
  {
   "cell_type": "code",
   "execution_count": 65,
   "id": "handled-roots",
   "metadata": {},
   "outputs": [
    {
     "data": {
      "text/plain": [
       "set"
      ]
     },
     "execution_count": 65,
     "metadata": {},
     "output_type": "execute_result"
    }
   ],
   "source": [
    "type(mnop[0])"
   ]
  },
  {
   "cell_type": "code",
   "execution_count": 58,
   "id": "consolidated-strip",
   "metadata": {},
   "outputs": [
    {
     "name": "stdout",
     "output_type": "stream",
     "text": [
      "{6: 2, 4: 8, 1: 3, 2: 7}\n"
     ]
    }
   ],
   "source": [
    "result = {}\n",
    "for i in list_b:\n",
    "    result[i]=my_list.index(i)\n",
    "print(result)"
   ]
  },
  {
   "cell_type": "code",
   "execution_count": 67,
   "id": "honest-liverpool",
   "metadata": {},
   "outputs": [
    {
     "name": "stdout",
     "output_type": "stream",
     "text": [
      "{6: 2, 4: 8, 1: 3, 2: 7}\n"
     ]
    },
    {
     "data": {
      "text/plain": [
       "dict"
      ]
     },
     "execution_count": 67,
     "metadata": {},
     "output_type": "execute_result"
    }
   ],
   "source": [
    "ghij = {i:my_list.index(i) for i in list_b}\n",
    "print(ghij)\n",
    "type(ghij)"
   ]
  },
  {
   "cell_type": "code",
   "execution_count": 68,
   "id": "preceding-stocks",
   "metadata": {},
   "outputs": [
    {
     "data": {
      "text/plain": [
       "{6: 2, 4: 8, 1: 3, 2: 7, 10: 14}"
      ]
     },
     "execution_count": 68,
     "metadata": {},
     "output_type": "execute_result"
    }
   ],
   "source": [
    "ghij[10]=14\n",
    "ghij"
   ]
  },
  {
   "cell_type": "code",
   "execution_count": 134,
   "id": "detected-mixture",
   "metadata": {},
   "outputs": [
    {
     "data": {
      "text/plain": [
       "['a new world record was set',\n",
       " 'in the holy city of ayodhya',\n",
       " 'on the eve of diwali on tuesday',\n",
       " 'with over three lakh diya or eathen lamps',\n",
       " 'lit up simultaneously on the banks of sarayu river']"
      ]
     },
     "execution_count": 134,
     "metadata": {},
     "output_type": "execute_result"
    }
   ],
   "source": [
    "sentences = [\"a new world record was set\", \"in the holy city of ayodhya\", \"on the eve of diwali on tuesday\", \"with over three lakh diya or eathen lamps\", \"lit up simultaneously on the banks of sarayu river\"]\n",
    "stopwords = ['for', 'a' ,'of', 'the', 'and', 'to', 'in','on', 'with']\n",
    "for i in sentences:\n",
    "    for j in i.split():\n",
    "        if j not in stopwords:\n",
    "            l2=\n",
    "sentences"
   ]
  },
  {
   "cell_type": "code",
   "execution_count": 78,
   "id": "focal-liberia",
   "metadata": {},
   "outputs": [],
   "source": [
    "mnop = i.split()"
   ]
  },
  {
   "cell_type": "code",
   "execution_count": 79,
   "id": "civil-warning",
   "metadata": {},
   "outputs": [
    {
     "data": {
      "text/plain": [
       "['lit', 'up', 'simultaneously', 'on', 'the', 'banks', 'of', 'sarayu', 'river']"
      ]
     },
     "execution_count": 79,
     "metadata": {},
     "output_type": "execute_result"
    }
   ],
   "source": [
    "mnop"
   ]
  },
  {
   "cell_type": "code",
   "execution_count": 81,
   "id": "registered-circumstances",
   "metadata": {},
   "outputs": [
    {
     "data": {
      "text/plain": [
       "'the'"
      ]
     },
     "execution_count": 81,
     "metadata": {},
     "output_type": "execute_result"
    }
   ],
   "source": [
    "del mnop[2]\n",
    "mnop[2]"
   ]
  },
  {
   "cell_type": "code",
   "execution_count": 82,
   "id": "severe-annex",
   "metadata": {},
   "outputs": [
    {
     "data": {
      "text/plain": [
       "True"
      ]
     },
     "execution_count": 82,
     "metadata": {},
     "output_type": "execute_result"
    }
   ],
   "source": [
    "mnop[2] in stopwords"
   ]
  },
  {
   "cell_type": "code",
   "execution_count": 87,
   "id": "usual-transsexual",
   "metadata": {},
   "outputs": [
    {
     "name": "stdout",
     "output_type": "stream",
     "text": [
      "['a', 'new', 'world', 'record', 'was', 'set']\n",
      "['in', 'the', 'holy', 'city', 'of', 'ayodhya']\n",
      "['on', 'the', 'eve', 'of', 'diwali', 'on', 'tuesday']\n",
      "['with', 'over', 'three', 'lakh', 'diya', 'or', 'eathen', 'lamps']\n",
      "['lit', 'up', 'simultaneously', 'on', 'the', 'banks', 'of', 'sarayu', 'river']\n"
     ]
    }
   ],
   "source": [
    "for i in sentences:\n",
    "    for j in range(len(i.split())):\n",
    "        "
   ]
  },
  {
   "cell_type": "code",
   "execution_count": 92,
   "id": "right-railway",
   "metadata": {},
   "outputs": [
    {
     "name": "stdout",
     "output_type": "stream",
     "text": [
      "a\n",
      "new\n",
      "world\n",
      "record\n",
      "was\n",
      "set\n",
      "in\n",
      "the\n",
      "holy\n",
      "city\n",
      "of\n",
      "ayodhya\n",
      "on\n",
      "the\n",
      "eve\n",
      "of\n",
      "diwali\n",
      "on\n",
      "tuesday\n",
      "with\n",
      "over\n",
      "three\n",
      "lakh\n",
      "diya\n",
      "or\n",
      "eathen\n",
      "lamps\n",
      "lit\n",
      "up\n",
      "simultaneously\n",
      "on\n",
      "the\n",
      "banks\n",
      "of\n",
      "sarayu\n",
      "river\n"
     ]
    }
   ],
   "source": [
    "for i in sentences:\n",
    "    for j in range(len(i.split())):\n",
    "        del i.split()[0]\n",
    "        print(i.split()[j])"
   ]
  },
  {
   "cell_type": "code",
   "execution_count": 128,
   "id": "false-train",
   "metadata": {},
   "outputs": [
    {
     "data": {
      "text/plain": [
       "['new world record was set',\n",
       " 'holy city ayodhya',\n",
       " 'eve diwali tuesday',\n",
       " 'over three lakh diya or eathen lamps',\n",
       " 'lit up simultaneously banks sarayu river']"
      ]
     },
     "execution_count": 128,
     "metadata": {},
     "output_type": "execute_result"
    }
   ],
   "source": [
    "sentences = [\"a new world record was set\", \"in the holy city of ayodhya\", \"on the eve of diwali on tuesday\", \"with over three lakh diya or eathen lamps\", \"lit up simultaneously on the banks of sarayu river\"]\n",
    "stopwords = ['for', 'a' ,'of', 'the', 'and', 'to', 'in','on', 'with']\n",
    "l3=[]\n",
    "for i in sentences:\n",
    "    l1=i.split()\n",
    "    l2=[]\n",
    "    end = len(i.split())\n",
    "    for j in range(end):\n",
    "        if l1[j] not in stopwords:\n",
    "            l2.append(l1[j])\n",
    "    l3.append(\" \".join(l2))\n",
    "l3"
   ]
  },
  {
   "cell_type": "code",
   "execution_count": 106,
   "id": "naughty-biology",
   "metadata": {},
   "outputs": [],
   "source": [
    "l1 = [1,2,3,4]"
   ]
  },
  {
   "cell_type": "code",
   "execution_count": 109,
   "id": "adequate-functionality",
   "metadata": {},
   "outputs": [],
   "source": [
    "del l1[1]"
   ]
  },
  {
   "cell_type": "code",
   "execution_count": 110,
   "id": "finite-appreciation",
   "metadata": {},
   "outputs": [
    {
     "data": {
      "text/plain": [
       "[1, 3]"
      ]
     },
     "execution_count": 110,
     "metadata": {},
     "output_type": "execute_result"
    }
   ],
   "source": [
    "l1"
   ]
  },
  {
   "cell_type": "code",
   "execution_count": 126,
   "id": "surprised-chuck",
   "metadata": {},
   "outputs": [],
   "source": [
    "l3.append(\"fdk fdkjg\")\n"
   ]
  },
  {
   "cell_type": "code",
   "execution_count": 127,
   "id": "simplified-wrist",
   "metadata": {},
   "outputs": [
    {
     "data": {
      "text/plain": [
       "['fdk fdkj', 'fdk fdkjg']"
      ]
     },
     "execution_count": 127,
     "metadata": {},
     "output_type": "execute_result"
    }
   ],
   "source": [
    "l3"
   ]
  },
  {
   "cell_type": "code",
   "execution_count": 129,
   "id": "piano-lotus",
   "metadata": {},
   "outputs": [
    {
     "data": {
      "text/plain": [
       "[['new', 'world', 'record', 'was', 'set'],\n",
       " ['holy', 'city', 'ayodhya'],\n",
       " ['eve', 'diwali', 'tuesday'],\n",
       " ['over', 'three', 'lakh', 'diya', 'or', 'eathen', 'lamps'],\n",
       " ['lit', 'up', 'simultaneously', 'banks', 'sarayu', 'river']]"
      ]
     },
     "execution_count": 129,
     "metadata": {},
     "output_type": "execute_result"
    }
   ],
   "source": [
    "[[word for word in sentence.split() if word not in stopwords] for sentence in sentences]"
   ]
  },
  {
   "cell_type": "code",
   "execution_count": 135,
   "id": "charitable-friday",
   "metadata": {},
   "outputs": [
    {
     "name": "stdout",
     "output_type": "stream",
     "text": [
      "3,2,6,5,1,4,8,9\n",
      "5168\n",
      "20\n"
     ]
    }
   ],
   "source": [
    "str1 = input().split(\",\")\n",
    "num1 = 0\n",
    "num2 = 0\n",
    "l1=[]\n",
    "for i in str1:\n",
    "    if str1.index(i)>=str1.index('5') and str1.index(i)<=str1.index('8'):\n",
    "        l1.append(i)\n",
    "    else:\n",
    "        num2=num2+int(i)\n",
    "num1=num2+int(\"\".join(l1))\n",
    "print(num1)\n",
    "print(num2)"
   ]
  },
  {
   "cell_type": "code",
   "execution_count": 136,
   "id": "indirect-ensemble",
   "metadata": {},
   "outputs": [
    {
     "name": "stdout",
     "output_type": "stream",
     "text": [
      "3,4,5,6,'fdf'\n"
     ]
    },
    {
     "data": {
      "text/plain": [
       "['3', '4', '5', '6', \"'fdf'\"]"
      ]
     },
     "execution_count": 136,
     "metadata": {},
     "output_type": "execute_result"
    }
   ],
   "source": [
    "str1 = input().split(\",\")\n",
    "str1"
   ]
  },
  {
   "cell_type": "code",
   "execution_count": 194,
   "id": "dressed-protest",
   "metadata": {},
   "outputs": [
    {
     "name": "stdout",
     "output_type": "stream",
     "text": [
      "rhdt:246,ghftd:1246\n",
      "rhdt:246\n",
      "trhd\n",
      "ghftd:1246\n",
      "ftdgh\n"
     ]
    }
   ],
   "source": [
    "str1 = input().split(\",\")\n",
    "for i in str1:\n",
    "    i.replace(\" \", \"\")\n",
    "    print(i)\n",
    "    str2=i.split(\":\")\n",
    "    num1=0\n",
    "    for i in str2[1]:\n",
    "        num1=num1+int(i)**2\n",
    "    if(num1%2==0):\n",
    "        print(str2[0][-1]+str2[0][:-1])\n",
    "    else:\n",
    "        print(str2[0][2:]+str2[0][:2])"
   ]
  },
  {
   "cell_type": "code",
   "execution_count": 192,
   "id": "organic-detector",
   "metadata": {},
   "outputs": [
    {
     "name": "stdout",
     "output_type": "stream",
     "text": [
      "sdf fdjf:344 42\n",
      "sdf fdjf:344 42\n"
     ]
    }
   ],
   "source": [
    "str1 = input().split(\",\")\n",
    "for i in str1:\n",
    "    i.replace(\" \", \"\")\n",
    "    print(i)"
   ]
  },
  {
   "cell_type": "code",
   "execution_count": 189,
   "id": "timely-cursor",
   "metadata": {},
   "outputs": [
    {
     "name": "stdout",
     "output_type": "stream",
     "text": [
      "ghdkj hfds:42 23\n",
      "ghdkj hfds:42 23\n"
     ]
    }
   ],
   "source": [
    "from copy import deepcopy\n",
    "str1 = input().split(\",\")\n",
    "for i in str1:\n",
    "    mnop = deepcopy(i)\n",
    "    mnop.replace(\" \", \"\")\n",
    "    print(mnop)"
   ]
  },
  {
   "cell_type": "code",
   "execution_count": 179,
   "id": "southern-variable",
   "metadata": {},
   "outputs": [
    {
     "data": {
      "text/plain": [
       "'rhdt:246'"
      ]
     },
     "execution_count": 179,
     "metadata": {},
     "output_type": "execute_result"
    }
   ],
   "source": [
    "str1 = \"rh dt:246\"\n",
    "str1.replace(\" \", \"\")"
   ]
  },
  {
   "cell_type": "code",
   "execution_count": 183,
   "id": "patent-belief",
   "metadata": {},
   "outputs": [
    {
     "data": {
      "text/plain": [
       "'rhdt:246'"
      ]
     },
     "execution_count": 183,
     "metadata": {},
     "output_type": "execute_result"
    }
   ],
   "source": [
    "str1.replace(\" \", \"\")"
   ]
  },
  {
   "cell_type": "code",
   "execution_count": 191,
   "id": "disciplinary-elite",
   "metadata": {},
   "outputs": [
    {
     "data": {
      "text/plain": [
       "'ghdkjhfds:4223'"
      ]
     },
     "execution_count": 191,
     "metadata": {},
     "output_type": "execute_result"
    }
   ],
   "source": [
    "mnop.replace(\" \", \"\")"
   ]
  },
  {
   "cell_type": "code",
   "execution_count": 196,
   "id": "lovely-bahrain",
   "metadata": {},
   "outputs": [
    {
     "data": {
      "text/plain": [
       "2"
      ]
     },
     "execution_count": 196,
     "metadata": {},
     "output_type": "execute_result"
    }
   ],
   "source": [
    "5//2"
   ]
  },
  {
   "cell_type": "code",
   "execution_count": 215,
   "id": "urban-worship",
   "metadata": {},
   "outputs": [
    {
     "name": "stdout",
     "output_type": "stream",
     "text": [
      "10\n",
      "num 10\n",
      "10\n",
      "9\n",
      "8\n",
      "7\n",
      "6\n",
      "5\n",
      "4\n",
      "3\n",
      "2\n",
      "num 11\n",
      "11\n",
      "10\n",
      "9\n",
      "8\n",
      "7\n",
      "6\n",
      "5\n",
      "4\n",
      "3\n",
      "2\n",
      "num 12\n",
      "12\n",
      "11\n",
      "10\n",
      "9\n",
      "8\n",
      "7\n",
      "6\n",
      "5\n",
      "4\n",
      "3\n",
      "2\n",
      "num 13\n",
      "13\n",
      "12\n",
      "11\n",
      "10\n",
      "9\n",
      "8\n",
      "7\n",
      "6\n",
      "5\n",
      "4\n",
      "3\n",
      "2\n",
      "num 14\n",
      "14\n",
      "13\n",
      "12\n",
      "11\n",
      "10\n",
      "9\n",
      "8\n",
      "7\n",
      "6\n",
      "5\n",
      "4\n",
      "3\n",
      "2\n",
      "num 15\n",
      "15\n",
      "14\n",
      "13\n",
      "12\n",
      "11\n",
      "10\n",
      "9\n",
      "8\n",
      "7\n",
      "6\n",
      "5\n",
      "4\n",
      "3\n",
      "2\n",
      "num 16\n",
      "16\n",
      "15\n",
      "14\n",
      "13\n",
      "12\n",
      "11\n",
      "10\n",
      "9\n",
      "8\n",
      "7\n",
      "6\n",
      "5\n",
      "4\n",
      "3\n",
      "2\n",
      "num 17\n",
      "17\n",
      "16\n",
      "15\n",
      "14\n",
      "13\n",
      "12\n",
      "11\n",
      "10\n",
      "9\n",
      "8\n",
      "7\n",
      "6\n",
      "5\n",
      "4\n",
      "3\n",
      "2\n",
      "num 18\n",
      "18\n",
      "17\n",
      "16\n",
      "15\n",
      "14\n",
      "13\n",
      "12\n",
      "11\n",
      "10\n",
      "9\n",
      "8\n",
      "7\n",
      "6\n",
      "5\n",
      "4\n",
      "3\n",
      "2\n"
     ]
    }
   ],
   "source": [
    "num = int(input())\n",
    "prime=False\n",
    "sum=0\n",
    "for i in range(num,num+9):\n",
    "    j=0\n",
    "    print(\"num\",i)\n",
    "    for j in range(i,1,-1):\n",
    "        for k in range(j//2,1,-1):\n",
    "            if j%k==0\n",
    "                break\n",
    "        if k==j//2-1:\n",
    "            \n",
    "           "
   ]
  },
  {
   "cell_type": "code",
   "execution_count": 217,
   "id": "diagnostic-cliff",
   "metadata": {},
   "outputs": [
    {
     "name": "stdout",
     "output_type": "stream",
     "text": [
      "0\n",
      "1\n",
      "2\n",
      "3\n",
      "4\n"
     ]
    },
    {
     "data": {
      "text/plain": [
       "4"
      ]
     },
     "execution_count": 217,
     "metadata": {},
     "output_type": "execute_result"
    }
   ],
   "source": [
    "for i in range(5):\n",
    "    print(i)\n",
    "i"
   ]
  },
  {
   "cell_type": "code",
   "execution_count": null,
   "id": "electronic-pricing",
   "metadata": {},
   "outputs": [],
   "source": []
  }
 ],
 "metadata": {
  "kernelspec": {
   "display_name": "Python 3",
   "language": "python",
   "name": "python3"
  },
  "language_info": {
   "codemirror_mode": {
    "name": "ipython",
    "version": 3
   },
   "file_extension": ".py",
   "mimetype": "text/x-python",
   "name": "python",
   "nbconvert_exporter": "python",
   "pygments_lexer": "ipython3",
   "version": "3.7.1"
  }
 },
 "nbformat": 4,
 "nbformat_minor": 5
}
