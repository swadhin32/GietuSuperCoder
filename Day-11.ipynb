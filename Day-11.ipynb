{
 "cells": [
  {
   "cell_type": "code",
   "execution_count": 39,
   "id": "complimentary-iceland",
   "metadata": {},
   "outputs": [],
   "source": [
    "import random\n",
    "\n",
    "class Fruit_Info:\n",
    "    def __init__(self,fruit_list,fruit_price_list):\n",
    "        self.fruit_name_list = fruit_list\n",
    "        self.fruit_price_list = fruit_price_list\n",
    "    def get_fruit_price(self,fruit_name):\n",
    "        return self.fruit_price_list[self.fruit_name_list.index(fruit_name)]\n",
    "class Purchase:\n",
    "    def __init__(self):\n",
    "        self.num=random.randint(101,999)\n",
    "    def calculate_price(self,fruit,fruit_name,cust,quant):\n",
    "        minprice = 9000000\n",
    "        maxprice = 0\n",
    "        dis = 0\n",
    "        totalPrice=0\n",
    "        maxp = dict()\n",
    "        minp = dict()\n",
    "        for i in fruit.fruit_name_list:\n",
    "            if fruit.fruit_price_list[fruit.fruit_name_list.index(i)]>=maxprice:\n",
    "                if len(maxp)==0:\n",
    "                    maxp[i]=fruit.fruit_price_list[fruit.fruit_name_list.index(i)]\n",
    "                    maxprice = fruit.fruit_price_list[fruit.fruit_name_list.index(i)]\n",
    "                else:\n",
    "                    maxp.clear()\n",
    "                    maxp[i]=fruit.fruit_price_list[fruit.fruit_name_list.index(i)]\n",
    "                    maxprice = fruit.fruit_price_list[fruit.fruit_name_list.index(i)]\n",
    "            if fruit.fruit_price_list[fruit.fruit_name_list.index(i)]<=minprice:\n",
    "                if len(minp)==0:\n",
    "                    minp[i]=fruit.fruit_price_list[fruit.fruit_name_list.index(i)]\n",
    "                    minprice = fruit.fruit_price_list[fruit.fruit_name_list.index(i)]\n",
    "                else:\n",
    "                    minp.clear()\n",
    "                    minp[i]=fruit.fruit_price_list[fruit.fruit_name_list.index(i)]\n",
    "                    minprice = fruit.fruit_price_list[fruit.fruit_name_list.index(i)]\n",
    "        if cust.isWholeseller():\n",
    "            dis=10\n",
    "        if fruit_name in maxp.keys() and quant>1:\n",
    "            dis=dis+2\n",
    "        elif fruit_name in minp.keys() and quant>5:\n",
    "            dis=dis+5\n",
    "        totalPrice=fruit.fruit_price_list[fruit.fruit_name_list.index(fruit_name)]*quant\n",
    "        return totalPrice-totalPrice*(dis/100)\n",
    "class Customer:\n",
    "    def __init__(self,whole=False):\n",
    "        self.wholeseller = whole\n",
    "    def isWholeseller(self):\n",
    "        return self.wholeseller"
   ]
  },
  {
   "cell_type": "code",
   "execution_count": 45,
   "id": "material-nightmare",
   "metadata": {},
   "outputs": [
    {
     "name": "stdout",
     "output_type": "stream",
     "text": [
      "153.0\n"
     ]
    }
   ],
   "source": [
    "swadhin = Customer(True)\n",
    "fruit_info = Fruit_Info(['orange','apple','banana','pista','grapes'],[70,30,500,80,200])\n",
    "purchase = Purchase()\n",
    "print(purchase.calculate_price(fruit_info,'apple',swadhin,6))"
   ]
  },
  {
   "cell_type": "code",
   "execution_count": 56,
   "id": "international-inflation",
   "metadata": {},
   "outputs": [],
   "source": [
    "class Employee:\n",
    "    def __init__(self,salary,qualification,band):\n",
    "        self.basic_salary = salary\n",
    "        self.qualification = qualification\n",
    "        self.job_band=band\n",
    "    def validate_basic_salary(self):\n",
    "        if self.basic_salary>3000:\n",
    "            return True\n",
    "        else:\n",
    "            return False\n",
    "    def validate_qualification(self):\n",
    "        if self.qualification==\"Bachelors\" or self.qualification==\"Masters\":\n",
    "            return True\n",
    "        else:\n",
    "            return False\n",
    "class Graduate:\n",
    "    def __init__(self,band,cgpa):\n",
    "        self.job_band=band\n",
    "        self.cgpa=cgpa\n",
    "    def validate_job_band(self):\n",
    "        if self.job_band==\"A\" or self.job_band==\"B\" or self.job_band==\"C\":\n",
    "            return True\n",
    "        else:\n",
    "            return False\n",
    "    def calculate_gross_salary(self,e1):\n",
    "        TPI = [1000,1700,3200,5000]\n",
    "        tpi=0\n",
    "        Incent = {'A':4,'B':6,'C':10,'D':13,'E':16,'F':20}\n",
    "        if e1.validate_basic_salary() and e1.validate_qualifications() and self.validate_job_band():\n",
    "            if 4<=self.cgpa<=4.25:\n",
    "                tpi=TPI[0]\n",
    "            elif 4.26<=self.cgpa<=4.5:\n",
    "                tpi=TPI[1]\n",
    "            elif 4.51<=self.cgpa<=4.75:\n",
    "                tpi=TPI[2]\n",
    "            elif 4.76<=self.cgpa<=5:\n",
    "                tpi=TPI[3]\n",
    "        return e1.basic_salary+e1.basic_salary*0.12+e1.basic_salary*tpi+e1.basic_salary*Incent[self.job_band]"
   ]
  },
  {
   "cell_type": "code",
   "execution_count": 42,
   "id": "institutional-chaos",
   "metadata": {},
   "outputs": [
    {
     "name": "stdout",
     "output_type": "stream",
     "text": [
      "1\n",
      "2\n",
      "3\n",
      "4\n",
      "5\n"
     ]
    }
   ],
   "source": [
    "class Node:\n",
    "    def __init__(self, dataval=None):\n",
    "        self.dataval = dataval\n",
    "        self.nextval = None\n",
    "\n",
    "class SLinkedList:\n",
    "    def __init__(self):\n",
    "        self.headval = None\n",
    "\n",
    "    def listprint(self):\n",
    "        printval = self.headval\n",
    "        while printval is not None:\n",
    "            print (printval.dataval)\n",
    "            printval = printval.nextval\n",
    "    def AtBegining(self,newdata):\n",
    "        NewNode = Node(newdata)\n",
    "        NewNode.nextval = self.headval\n",
    "        self.headval = NewNode\n",
    "    def AtEnd(self, newdata):\n",
    "        NewNode = Node(newdata)\n",
    "        if self.headval is None:\n",
    "            self.headval = NewNode\n",
    "            return\n",
    "        laste = self.headval\n",
    "        while(laste.nextval):\n",
    "            laste = laste.nextval\n",
    "        laste.nextval = NewNode\n",
    "    def Inbetween(self,middle_node,newdata):\n",
    "        if middle_node is None:\n",
    "            print(\"The mentioned node is absent\")\n",
    "            return\n",
    "        NewNode = Node(newdata)\n",
    "        NewNode.nextval = middle_node.nextval\n",
    "        middle_node.nextval = NewNode\n",
    "    def delete_at_start(self):\n",
    "        self.headval = self.headval.nextval\n",
    "    def delete_at_end(self):\n",
    "        printval = self.headval\n",
    "        while True:\n",
    "            if printval.nextval.nextval==None:\n",
    "                printval.nextval=None\n",
    "                break\n",
    "            printval = printval.nextval\n",
    "    def delete_at_pos(self,pos):\n",
    "        temp = self.headval\n",
    "        for i in range(pos):\n",
    "            if i==pos-2:\n",
    "                temp.nextval=temp.nextval.nextval\n",
    "                break\n",
    "            temp=temp.nextval\n",
    "    def delete_val(self,val):\n",
    "        printval = self.headval\n",
    "        while printval is not None:\n",
    "            if printval.nextval.dataval==val:\n",
    "                printval.nextval=printval.nextval.nextval\n",
    "                break\n",
    "            printval=printval.nextval\n",
    "    def reverse(self):\n",
    "        l1 = []\n",
    "        printval = self.headval\n",
    "        while printval is not None:\n",
    "            l1.append(printval.dataval)\n",
    "            printval = printval.nextval\n",
    "        list = SLinkedList()\n",
    "        list.headval = Node(l1[-1])\n",
    "        temp = list.headval\n",
    "        for i in range(2,len(l1)+1):\n",
    "            Newnode = Node(l1[-i])\n",
    "            temp.nextval = Newnode\n",
    "            temp=Newnode\n",
    "        return list\n",
    "    def search_item(self, data):\n",
    "        pass\n",
    "\n",
    "    \n",
    "    \n",
    "    \n",
    "class Queue:\n",
    "    def __init__(self, max_size):\n",
    "        self.__max_size=max_size\n",
    "        self.__elements = [None]*max_size\n",
    "        self.__front = -1\n",
    "        self.__rear = -1\n",
    "        \n",
    "    def is_empty(self):\n",
    "        if self.__front==-1:\n",
    "            return True\n",
    "        return False\n",
    "            \n",
    "    def is_full(self):\n",
    "        if (self.__rear==self.__max_size-1 and self.__front==0) or (self.__rear==self.__front-1):\n",
    "            return True\n",
    "        return False\n",
    "    def enqueue(self,data):\n",
    "        if(self.is_full()):\n",
    "            print(\"Queue is full\")\n",
    "        else:\n",
    "            if self.__front==-1:\n",
    "                self.__front=0\n",
    "            self.__rear=(self.__rear+1)%self.__max_size\n",
    "            self.__elements[self.__rear]=data\n",
    "    def dequeue(self):\n",
    "        if(self.is_empty()):\n",
    "            print(\"Queue is empty!!!\")\n",
    "        else:\n",
    "            data = self.__elements[self.__front]\n",
    "            if self.__front==self.__rear:\n",
    "                self.__front=-1\n",
    "                self.__rear=-1\n",
    "            else:\n",
    "                self.__front=(self.__front+1)%self.__max_size\n",
    "            return data\n",
    "    def display(self):\n",
    "        if not self.is_empty():\n",
    "            i = self.__front\n",
    "            while i != self.__rear:\n",
    "                print(self.__elements[i])\n",
    "                i=(i+1)%self.__max_size\n",
    "            print(self.__elements[i])\n",
    "    def get_max_size(self):\n",
    "        return self.__max_size\n",
    "    def triangle(self,s1):\n",
    "        for i in range(self.__front-1, self.__rear+1):\n",
    "            if self.__elements[i-1]*(self.__elements[i-1]+1)//2==self.__elements[i]:\n",
    "                s1.push(self.__elements[i])\n",
    "                \n",
    "class BakeHouse:\n",
    "    def __init__(self,table_list):\n",
    "        self.__occupied_table_list=table_list\n",
    "        self.__queue1=Queue(10)\n",
    "        self.__available=[5,6,7,8,9,10]\n",
    "    def get_occupied_table_list(self):\n",
    "        return self.__occupied_table_list.listprint()\n",
    "    def allocate_table(self):\n",
    "        if not self.__queue1.is_empty():\n",
    "            self.__occupied_table_list.AtEnd(self.__queue1.dequeue())\n",
    "        elif len(self.__available):\n",
    "            self.__occupied_table_list.AtEnd(self.__available[0])\n",
    "            del self.__available[0]\n",
    "        else:\n",
    "            print(\"Sorry!! No tables available for now\")\n",
    "\n",
    "    def deallocate_table(self):\n",
    "        list1 = [int(i) for i in input().split(',')]\n",
    "        for i in list1:\n",
    "            self.__occupied_table_list.delete_val(i)\n",
    "            self.__queue1.enqueue(i)\n",
    "list = SLinkedList()\n",
    "for i in range(1,5):\n",
    "    list.AtEnd(i)\n",
    "bakeHouse = BakeHouse(list)\n",
    "bakeHouse.allocate_table()\n",
    "bakeHouse.get_occupied_table_list()"
   ]
  },
  {
   "cell_type": "code",
   "execution_count": 62,
   "id": "closed-tender",
   "metadata": {},
   "outputs": [
    {
     "name": "stdout",
     "output_type": "stream",
     "text": [
      "Unsorted Array\n",
      "[1, 7, 4, 1, 10, 9, -2]\n",
      "Sorted Array in Ascending Order:\n",
      "[-2, 1, 1, 4, 7, 9, 10]\n"
     ]
    }
   ],
   "source": [
    "def partition(array, low, high):\n",
    "    pivot = array[high]\n",
    "    i = low - 1\n",
    "    for j in range(low, high):\n",
    "        if array[j] <= pivot:\n",
    "            i = i + 1\n",
    "            (array[i], array[j]) = (array[j], array[i])\n",
    "    (array[i + 1], array[high]) = (array[high], array[i + 1])\n",
    "    return i + 1\n",
    "\n",
    "def quickSort(array, low, high):\n",
    "    if low < high:\n",
    "        pi = partition(array, low, high)\n",
    "        quickSort(array, low, pi - 1)\n",
    "        quickSort(array, pi + 1, high)\n",
    "\n",
    "\n",
    "data = [1, 7, 4, 1, 10, 9, -2]\n",
    "print(\"Unsorted Array\")\n",
    "print(data)\n",
    "\n",
    "size = len(data)\n",
    "\n",
    "quickSort(data, 0, size - 1)\n",
    "\n",
    "print('Sorted Array in Ascending Order:')\n",
    "print(data)\n"
   ]
  },
  {
   "cell_type": "code",
   "execution_count": 84,
   "id": "desperate-lawrence",
   "metadata": {},
   "outputs": [],
   "source": [
    "text = \"good and good swan an swan\"\n",
    "result = dict()\n",
    "maxm = 0\n",
    "for i in set(text.split(' ')):\n",
    "    if len(result)!=0:\n",
    "        if maxm<text.split(' ').count(i):\n",
    "            result.clear()\n",
    "            result[i]=text.split(' ').count(i)\n",
    "            maxm=text.split(' ').count(i)\n",
    "        elif maxm==text.split(' ').count(i):\n",
    "            result[i]=text.split(' ').count(i)\n",
    "    else:\n",
    "        if maxm<text.count(i):\n",
    "            result[i]=text.split(' ').count(i)\n",
    "            maxm=text.split(' ').count(i)"
   ]
  },
  {
   "cell_type": "code",
   "execution_count": 85,
   "id": "noble-weather",
   "metadata": {},
   "outputs": [
    {
     "name": "stdout",
     "output_type": "stream",
     "text": [
      "swan 2\n",
      "good 2\n"
     ]
    }
   ],
   "source": [
    "for i in result:\n",
    "    print(i,result[i])"
   ]
  },
  {
   "cell_type": "code",
   "execution_count": 100,
   "id": "played-contract",
   "metadata": {},
   "outputs": [],
   "source": [
    "def check_anagram(str1,str2):\n",
    "    if len(str1)==len(str2):\n",
    "        for i in range(len(str1)):\n",
    "            if str1[i]==str2[i]:\n",
    "                return False\n",
    "        if sorted(str1)==sorted(str2):\n",
    "            return True\n",
    "    return False"
   ]
  },
  {
   "cell_type": "code",
   "execution_count": 103,
   "id": "progressive-marriage",
   "metadata": {},
   "outputs": [
    {
     "data": {
      "text/plain": [
       "True"
      ]
     },
     "execution_count": 103,
     "metadata": {},
     "output_type": "execute_result"
    }
   ],
   "source": [
    "check_anagram(\"tea\",\"eat\")"
   ]
  },
  {
   "cell_type": "code",
   "execution_count": 131,
   "id": "informed-remove",
   "metadata": {},
   "outputs": [
    {
     "name": "stdout",
     "output_type": "stream",
     "text": [
      "Enter a range100\n",
      "All circular prime numbers in this range are\n",
      "2\n",
      "3\n",
      "5\n",
      "7\n",
      "11\n",
      "13\n",
      "17\n",
      "31\n",
      "37\n",
      "71\n",
      "73\n",
      "79\n",
      "97\n"
     ]
    }
   ],
   "source": [
    "def checkPrime(num):\n",
    "    if num > 1:\n",
    "        for i in range(2, int(num/2)+1):\n",
    "            if (num % i) == 0:\n",
    "                return False\n",
    "        else:\n",
    "            return True\n",
    "    else:\n",
    "        return False\n",
    "def circularPrime(num):\n",
    "    str1=str(num)\n",
    "    for i in range(len(str1)):\n",
    "        if not checkPrime(int(str1[i:len(str1)]+str1[:i])):\n",
    "            return False\n",
    "    return True\n",
    "if __name__ == \"__main__\":\n",
    "    num = int(input(\"Enter a range\"))\n",
    "    print(\"All circular prime numbers in this range are\")\n",
    "    for i in range(100):\n",
    "        if circularPrime(i):\n",
    "            print(i)"
   ]
  },
  {
   "cell_type": "code",
   "execution_count": 3,
   "id": "dedicated-bubble",
   "metadata": {},
   "outputs": [
    {
     "data": {
      "text/plain": [
       "6"
      ]
     },
     "execution_count": 3,
     "metadata": {},
     "output_type": "execute_result"
    }
   ],
   "source": [
    "-1%7"
   ]
  },
  {
   "cell_type": "code",
   "execution_count": 14,
   "id": "inside-summary",
   "metadata": {},
   "outputs": [
    {
     "name": "stdout",
     "output_type": "stream",
     "text": [
      "[2, 3, 4]\n"
     ]
    }
   ],
   "source": [
    "k = [1,2,3,4]\n"
   ]
  },
  {
   "cell_type": "code",
   "execution_count": 15,
   "id": "powered-socket",
   "metadata": {},
   "outputs": [
    {
     "name": "stdout",
     "output_type": "stream",
     "text": [
      "[3, 4]\n"
     ]
    }
   ],
   "source": [
    "del k[0]\n",
    "print(k)"
   ]
  },
  {
   "cell_type": "code",
   "execution_count": null,
   "id": "informed-interference",
   "metadata": {},
   "outputs": [],
   "source": []
  }
 ],
 "metadata": {
  "kernelspec": {
   "display_name": "Python 3",
   "language": "python",
   "name": "python3"
  },
  "language_info": {
   "codemirror_mode": {
    "name": "ipython",
    "version": 3
   },
   "file_extension": ".py",
   "mimetype": "text/x-python",
   "name": "python",
   "nbconvert_exporter": "python",
   "pygments_lexer": "ipython3",
   "version": "3.7.1"
  }
 },
 "nbformat": 4,
 "nbformat_minor": 5
}
