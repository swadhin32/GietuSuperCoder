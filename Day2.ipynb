{
 "cells": [
  {
   "cell_type": "code",
   "execution_count": 31,
   "id": "abandoned-holmes",
   "metadata": {},
   "outputs": [
    {
     "name": "stdout",
     "output_type": "stream",
     "text": [
      "[] <class 'list'>\n",
      "[10, 20, 30] <class 'list'>\n",
      "[10, 20, 30, 50] <class 'list'>\n",
      "[100, 200, 300, 400] <class 'list'>\n"
     ]
    }
   ],
   "source": [
    "list1 = []\n",
    "print(list1, type(list1))\n",
    "list2 = [10,20,30]\n",
    "print(list2,type(list2))\n",
    "list3 = list([10,20,30,50])\n",
    "print(list3,type(list3))\n",
    "list4 = list([100,200,300,400])\n",
    "print(list4,type(list4))\n",
    "list5 = [101,201,301,401]\n",
    "list5.append(501)"
   ]
  },
  {
   "cell_type": "code",
   "execution_count": 32,
   "id": "entitled-lunch",
   "metadata": {},
   "outputs": [
    {
     "data": {
      "text/plain": [
       "[101, 201, 301, 401, 501, 601, 702]"
      ]
     },
     "execution_count": 32,
     "metadata": {},
     "output_type": "execute_result"
    }
   ],
   "source": [
    "list5.extend([601,702])\n",
    "list5"
   ]
  },
  {
   "cell_type": "code",
   "execution_count": 33,
   "id": "federal-garbage",
   "metadata": {},
   "outputs": [
    {
     "data": {
      "text/plain": [
       "[101, 201, 301, 401, 350, 501, 601, 702]"
      ]
     },
     "execution_count": 33,
     "metadata": {},
     "output_type": "execute_result"
    }
   ],
   "source": [
    "list5.insert(4,350)\n",
    "list5"
   ]
  },
  {
   "cell_type": "code",
   "execution_count": 34,
   "id": "aging-senior",
   "metadata": {},
   "outputs": [
    {
     "data": {
      "text/plain": [
       "[101, 201, 301, 401, 350, 501, 601]"
      ]
     },
     "execution_count": 34,
     "metadata": {},
     "output_type": "execute_result"
    }
   ],
   "source": [
    "list5.pop()\n",
    "list5"
   ]
  },
  {
   "cell_type": "code",
   "execution_count": 5,
   "id": "civic-cleanup",
   "metadata": {},
   "outputs": [
    {
     "data": {
      "text/plain": [
       "[101, 301, 401, 350, 501, 601]"
      ]
     },
     "execution_count": 5,
     "metadata": {},
     "output_type": "execute_result"
    }
   ],
   "source": [
    "del list5[1]\n",
    "list5"
   ]
  },
  {
   "cell_type": "code",
   "execution_count": 6,
   "id": "golden-inspector",
   "metadata": {},
   "outputs": [
    {
     "data": {
      "text/plain": [
       "[101, 301, 350, 501, 601]"
      ]
     },
     "execution_count": 6,
     "metadata": {},
     "output_type": "execute_result"
    }
   ],
   "source": [
    "list5.pop(2)\n",
    "list5"
   ]
  },
  {
   "cell_type": "code",
   "execution_count": 7,
   "id": "prospective-religion",
   "metadata": {},
   "outputs": [
    {
     "data": {
      "text/plain": [
       "[101, 301, 56, 350, 501, 601]"
      ]
     },
     "execution_count": 7,
     "metadata": {},
     "output_type": "execute_result"
    }
   ],
   "source": [
    "list5.insert(2,56)\n",
    "list5"
   ]
  },
  {
   "cell_type": "code",
   "execution_count": 8,
   "id": "requested-somerset",
   "metadata": {},
   "outputs": [
    {
     "data": {
      "text/plain": [
       "['I', 'love', 'India']"
      ]
     },
     "execution_count": 8,
     "metadata": {},
     "output_type": "execute_result"
    }
   ],
   "source": [
    "str1= \"I love India\"\n",
    "str1.split()"
   ]
  },
  {
   "cell_type": "code",
   "execution_count": 9,
   "id": "complicated-display",
   "metadata": {},
   "outputs": [
    {
     "name": "stdout",
     "output_type": "stream",
     "text": [
      "[8, 3]\n"
     ]
    }
   ],
   "source": [
    "def function(str1):\n",
    "    l_count=0\n",
    "    d_count=0\n",
    "    for i in str1:\n",
    "        if i.isalpha():\n",
    "            l_count=l_count+1\n",
    "        elif i.isdigit():\n",
    "            d_count = d_count+1\n",
    "        else:\n",
    "            continue\n",
    "    return [l_count, d_count]\n",
    "print(function(\"Infosys 123H\"))"
   ]
  },
  {
   "cell_type": "code",
   "execution_count": 50,
   "id": "emotional-boulder",
   "metadata": {},
   "outputs": [],
   "source": [
    "def find_pairs_of_numbers(list1,n):\n",
    "    list2 = []\n",
    "    end=len(list1)\n",
    "    for i in range(0,end):\n",
    "        if list1[i]<n:\n",
    "            m=list1[i]\n",
    "            list1.pop(i)\n",
    "            for j in range(i,end):\n",
    "                if list1[j]==n-m:\n",
    "                    list2.append((m,list1[j]))\n",
    "                    list1.pop(j)\n",
    "                    end=end-1\n",
    "                    break\n",
    "    return list2"
   ]
  },
  {
   "cell_type": "code",
   "execution_count": 51,
   "id": "statistical-browser",
   "metadata": {},
   "outputs": [
    {
     "ename": "IndexError",
     "evalue": "list index out of range",
     "output_type": "error",
     "traceback": [
      "\u001b[1;31m---------------------------------------------------------------------------\u001b[0m",
      "\u001b[1;31mIndexError\u001b[0m                                Traceback (most recent call last)",
      "\u001b[1;32m<ipython-input-51-a181c58e8312>\u001b[0m in \u001b[0;36m<module>\u001b[1;34m\u001b[0m\n\u001b[1;32m----> 1\u001b[1;33m \u001b[0mfind_pairs_of_numbers\u001b[0m\u001b[1;33m(\u001b[0m\u001b[1;33m[\u001b[0m\u001b[1;36m1\u001b[0m\u001b[1;33m,\u001b[0m\u001b[1;36m25\u001b[0m\u001b[1;33m,\u001b[0m\u001b[1;36m3\u001b[0m\u001b[1;33m,\u001b[0m\u001b[1;36m4\u001b[0m\u001b[1;33m]\u001b[0m\u001b[1;33m,\u001b[0m\u001b[1;36m5\u001b[0m\u001b[1;33m)\u001b[0m\u001b[1;33m\u001b[0m\u001b[1;33m\u001b[0m\u001b[0m\n\u001b[0m",
      "\u001b[1;32m<ipython-input-50-dbb94c42d541>\u001b[0m in \u001b[0;36mfind_pairs_of_numbers\u001b[1;34m(list1, n)\u001b[0m\n\u001b[0;32m      7\u001b[0m             \u001b[0mlist1\u001b[0m\u001b[1;33m.\u001b[0m\u001b[0mpop\u001b[0m\u001b[1;33m(\u001b[0m\u001b[0mi\u001b[0m\u001b[1;33m)\u001b[0m\u001b[1;33m\u001b[0m\u001b[1;33m\u001b[0m\u001b[0m\n\u001b[0;32m      8\u001b[0m             \u001b[1;32mfor\u001b[0m \u001b[0mj\u001b[0m \u001b[1;32min\u001b[0m \u001b[0mrange\u001b[0m\u001b[1;33m(\u001b[0m\u001b[0mi\u001b[0m\u001b[1;33m,\u001b[0m\u001b[0mend\u001b[0m\u001b[1;33m)\u001b[0m\u001b[1;33m:\u001b[0m\u001b[1;33m\u001b[0m\u001b[1;33m\u001b[0m\u001b[0m\n\u001b[1;32m----> 9\u001b[1;33m                 \u001b[1;32mif\u001b[0m \u001b[0mlist1\u001b[0m\u001b[1;33m[\u001b[0m\u001b[0mj\u001b[0m\u001b[1;33m]\u001b[0m\u001b[1;33m==\u001b[0m\u001b[0mn\u001b[0m\u001b[1;33m-\u001b[0m\u001b[0mm\u001b[0m\u001b[1;33m:\u001b[0m\u001b[1;33m\u001b[0m\u001b[1;33m\u001b[0m\u001b[0m\n\u001b[0m\u001b[0;32m     10\u001b[0m                     \u001b[0mlist2\u001b[0m\u001b[1;33m.\u001b[0m\u001b[0mappend\u001b[0m\u001b[1;33m(\u001b[0m\u001b[1;33m(\u001b[0m\u001b[0mm\u001b[0m\u001b[1;33m,\u001b[0m\u001b[0mlist1\u001b[0m\u001b[1;33m[\u001b[0m\u001b[0mj\u001b[0m\u001b[1;33m]\u001b[0m\u001b[1;33m)\u001b[0m\u001b[1;33m)\u001b[0m\u001b[1;33m\u001b[0m\u001b[1;33m\u001b[0m\u001b[0m\n\u001b[0;32m     11\u001b[0m                     \u001b[0mlist1\u001b[0m\u001b[1;33m.\u001b[0m\u001b[0mpop\u001b[0m\u001b[1;33m(\u001b[0m\u001b[0mj\u001b[0m\u001b[1;33m)\u001b[0m\u001b[1;33m\u001b[0m\u001b[1;33m\u001b[0m\u001b[0m\n",
      "\u001b[1;31mIndexError\u001b[0m: list index out of range"
     ]
    }
   ],
   "source": [
    "find_pairs_of_numbers([1,25,3,4],5)"
   ]
  },
  {
   "cell_type": "code",
   "execution_count": 74,
   "id": "worse-atmosphere",
   "metadata": {},
   "outputs": [],
   "source": [
    "def stringman(str1):\n",
    "    if len(str1)>2:\n",
    "        print(str1[0:2]+str1[-2:])\n",
    "    elif len(str1)<2:\n",
    "        print(-1)\n",
    "    else:\n",
    "        print(str1+str1)"
   ]
  },
  {
   "cell_type": "code",
   "execution_count": 77,
   "id": "accessory-inflation",
   "metadata": {},
   "outputs": [
    {
     "name": "stdout",
     "output_type": "stream",
     "text": [
      "w3ol\n",
      "erer\n",
      "-1\n"
     ]
    }
   ],
   "source": [
    "stringman(\"w3school\")\n",
    "stringman(\"er\")\n",
    "stringman(\"r\")"
   ]
  },
  {
   "cell_type": "code",
   "execution_count": 90,
   "id": "criminal-jurisdiction",
   "metadata": {},
   "outputs": [],
   "source": [
    "def verbing(str1):\n",
    "    if len(str1)>3:\n",
    "        if str1[-3:]==\"ing\":\n",
    "            print(str1+\"ly\")\n",
    "        else:\n",
    "            print(str1+\"ing\")"
   ]
  },
  {
   "cell_type": "code",
   "execution_count": 94,
   "id": "caroline-unemployment",
   "metadata": {},
   "outputs": [],
   "source": [
    "def verbing(str1):\n",
    "    if len(str1)>3:\n",
    "        if str1.endswith(\"ing\"):\n",
    "            print(str1+\"ly\")\n",
    "        else:\n",
    "            print(str1+\"ing\")"
   ]
  },
  {
   "cell_type": "code",
   "execution_count": 95,
   "id": "ready-italian",
   "metadata": {},
   "outputs": [
    {
     "name": "stdout",
     "output_type": "stream",
     "text": [
      "goingly\n",
      "drawing\n"
     ]
    }
   ],
   "source": [
    "verbing(\"going\")\n",
    "verbing(\"draw\")\n",
    "verbing(\"do\")"
   ]
  },
  {
   "cell_type": "code",
   "execution_count": 96,
   "id": "helpful-algorithm",
   "metadata": {},
   "outputs": [
    {
     "name": "stdout",
     "output_type": "stream",
     "text": [
      "For only 49.00 dollars!\n"
     ]
    }
   ],
   "source": [
    "txt = \"For only {price:.2f} dollars!\"\n",
    "print(txt.format(price = 49))"
   ]
  },
  {
   "cell_type": "code",
   "execution_count": 122,
   "id": "brilliant-station",
   "metadata": {},
   "outputs": [],
   "source": [
    "def checkDouble(num):\n",
    "    if(len(num)==len(str(int(num)*2))):\n",
    "        num2=str(int(num)*2)\n",
    "        dict1 = {}\n",
    "        dict2 = {}\n",
    "        for i in num:\n",
    "            if i not in dict1.keys():\n",
    "                dict1[i]=0\n",
    "            else:\n",
    "                dict1[i]=dict1[i]+1\n",
    "        for i in num2:\n",
    "            if i not in dict2.keys():\n",
    "                dict2[i]=0\n",
    "            else:\n",
    "                dict2[i]=dict2[i]+1\n",
    "    if dict1==dict2:\n",
    "        return True\n",
    "    else:\n",
    "        return False"
   ]
  },
  {
   "cell_type": "code",
   "execution_count": 124,
   "id": "derived-southwest",
   "metadata": {},
   "outputs": [
    {
     "data": {
      "text/plain": [
       "True"
      ]
     },
     "execution_count": 124,
     "metadata": {},
     "output_type": "execute_result"
    }
   ],
   "source": [
    "checkDouble(\"125874\")"
   ]
  },
  {
   "cell_type": "code",
   "execution_count": 109,
   "id": "printable-pointer",
   "metadata": {},
   "outputs": [
    {
     "name": "stdout",
     "output_type": "stream",
     "text": [
      "dict_values(['Ford', 'Mustang', 1964, 2018])\n"
     ]
    }
   ],
   "source": [
    "car = {\n",
    "  \"brand\": \"Ford\",\n",
    "  \"model\": \"Mustang\",\n",
    "  \"year\": 1964\n",
    "}\n",
    "\n",
    "x = car.values()\n",
    "\n",
    "car[\"year2\"] = 2018\n",
    "\n",
    "print(x)"
   ]
  },
  {
   "cell_type": "code",
   "execution_count": 115,
   "id": "secure-center",
   "metadata": {},
   "outputs": [
    {
     "data": {
      "text/plain": [
       "False"
      ]
     },
     "execution_count": 115,
     "metadata": {},
     "output_type": "execute_result"
    }
   ],
   "source": [
    "\"brand2\" in car.keys()"
   ]
  },
  {
   "cell_type": "code",
   "execution_count": 118,
   "id": "continuous-resident",
   "metadata": {},
   "outputs": [],
   "source": [
    "car = {\n",
    "  \"brand\": \"Ford\",\n",
    "  \"model\": \"Mustang\",\n",
    "  \"year\": 1964\n",
    "}\n",
    "car2 = {\n",
    "  \"brand\": \"Ford\",\n",
    "  \"model\": \"Mustangg\",\n",
    "  \"year\": 1964\n",
    "}"
   ]
  },
  {
   "cell_type": "code",
   "execution_count": 119,
   "id": "neither-apparatus",
   "metadata": {},
   "outputs": [
    {
     "data": {
      "text/plain": [
       "False"
      ]
     },
     "execution_count": 119,
     "metadata": {},
     "output_type": "execute_result"
    }
   ],
   "source": [
    "car==car2"
   ]
  },
  {
   "cell_type": "code",
   "execution_count": 125,
   "id": "extra-islam",
   "metadata": {},
   "outputs": [],
   "source": [
    "def checkDouble(num):\n",
    "    if(len(num)==len(str(int(num)*2))):\n",
    "        num2=str(int(num)*2)\n",
    "        if(sorted(num)==sorted(num2)):\n",
    "            return True\n",
    "        else:\n",
    "            return False"
   ]
  },
  {
   "cell_type": "code",
   "execution_count": 126,
   "id": "powered-pressing",
   "metadata": {},
   "outputs": [
    {
     "data": {
      "text/plain": [
       "True"
      ]
     },
     "execution_count": 126,
     "metadata": {},
     "output_type": "execute_result"
    }
   ],
   "source": [
    "checkDouble(\"125874\")"
   ]
  },
  {
   "cell_type": "code",
   "execution_count": 130,
   "id": "developing-buffalo",
   "metadata": {},
   "outputs": [],
   "source": [
    "sample_input = (12,18,25,23,14)\n",
    "def find_more_than_average(input1):\n",
    "    count=0\n",
    "    for i in input1:\n",
    "        if i>sum(input1)/len(input1 \n",
    "            print((i/25)*100)"
   ]
  },
  {
   "cell_type": "code",
   "execution_count": 131,
   "id": "satisfactory-arctic",
   "metadata": {},
   "outputs": [
    {
     "name": "stdout",
     "output_type": "stream",
     "text": [
      "100.0\n",
      "92.0\n"
     ]
    }
   ],
   "source": [
    "find_more_than_average(sample_input)"
   ]
  },
  {
   "cell_type": "code",
   "execution_count": 134,
   "id": "revolutionary-swift",
   "metadata": {},
   "outputs": [],
   "source": [
    "def generate_frequency(input1):\n",
    "    dict1={}\n",
    "    for i in range(1,26):\n",
    "        dict1[i]=0\n",
    "    for i in input1:\n",
    "        dict1[i]=dict1[i]+1\n",
    "    return dict1"
   ]
  },
  {
   "cell_type": "code",
   "execution_count": 135,
   "id": "african-rolling",
   "metadata": {},
   "outputs": [
    {
     "data": {
      "text/plain": [
       "{1: 3,\n",
       " 2: 0,\n",
       " 3: 0,\n",
       " 4: 1,\n",
       " 5: 0,\n",
       " 6: 0,\n",
       " 7: 0,\n",
       " 8: 0,\n",
       " 9: 0,\n",
       " 10: 0,\n",
       " 11: 0,\n",
       " 12: 0,\n",
       " 13: 0,\n",
       " 14: 0,\n",
       " 15: 0,\n",
       " 16: 0,\n",
       " 17: 0,\n",
       " 18: 0,\n",
       " 19: 0,\n",
       " 20: 0,\n",
       " 21: 0,\n",
       " 22: 0,\n",
       " 23: 0,\n",
       " 24: 2,\n",
       " 25: 4}"
      ]
     },
     "execution_count": 135,
     "metadata": {},
     "output_type": "execute_result"
    }
   ],
   "source": [
    "generate_frequency((1,1,1,4,24,24,25,25,25,25))"
   ]
  },
  {
   "cell_type": "code",
   "execution_count": 136,
   "id": "analyzed-clearance",
   "metadata": {},
   "outputs": [],
   "source": [
    "def sort_marks(input1):\n",
    "    print(sorted(input1))"
   ]
  },
  {
   "cell_type": "code",
   "execution_count": 137,
   "id": "enhanced-biology",
   "metadata": {},
   "outputs": [
    {
     "name": "stdout",
     "output_type": "stream",
     "text": [
      "[12, 14, 18, 23, 25]\n"
     ]
    }
   ],
   "source": [
    "sort_marks(sample_input)"
   ]
  },
  {
   "cell_type": "code",
   "execution_count": 139,
   "id": "duplicate-aside",
   "metadata": {},
   "outputs": [
    {
     "data": {
      "text/plain": [
       "set"
      ]
     },
     "execution_count": 139,
     "metadata": {},
     "output_type": "execute_result"
    }
   ],
   "source": [
    "mnop = {12,34,23,42,56,12}\n",
    "type(mnop)"
   ]
  },
  {
   "cell_type": "code",
   "execution_count": 140,
   "id": "meaning-masters",
   "metadata": {},
   "outputs": [
    {
     "data": {
      "text/plain": [
       "{12, 23, 34, 42, 56}"
      ]
     },
     "execution_count": 140,
     "metadata": {},
     "output_type": "execute_result"
    }
   ],
   "source": [
    "mnop"
   ]
  },
  {
   "cell_type": "code",
   "execution_count": 145,
   "id": "chubby-timothy",
   "metadata": {},
   "outputs": [],
   "source": [
    "import pandas as pd\n",
    "def generate_frequency(input1):\n",
    "    data = pd.DataFrame(input1)\n",
    "    print(data.value_counts())"
   ]
  },
  {
   "cell_type": "code",
   "execution_count": 146,
   "id": "placed-civilization",
   "metadata": {},
   "outputs": [
    {
     "name": "stdout",
     "output_type": "stream",
     "text": [
      "25    4\n",
      "1     3\n",
      "24    2\n",
      "4     1\n",
      "dtype: int64\n"
     ]
    }
   ],
   "source": [
    "generate_frequency((1,1,1,4,24,24,25,25,25,25))"
   ]
  },
  {
   "cell_type": "code",
   "execution_count": 152,
   "id": "familiar-category",
   "metadata": {},
   "outputs": [],
   "source": [
    "def translate(dict1, sente):\n",
    "    list1 = sente.split()\n",
    "    dict2 = {}\n",
    "    for i in list1:\n",
    "        dict2[i]=dict1[i]\n",
    "    return dict2"
   ]
  },
  {
   "cell_type": "code",
   "execution_count": 154,
   "id": "mechanical-university",
   "metadata": {},
   "outputs": [
    {
     "data": {
      "text/plain": [
       "{'merry': 'god',\n",
       " 'christmas': 'jul',\n",
       " 'and': 'och',\n",
       " 'happy': 'gott',\n",
       " 'new': 'nytt',\n",
       " 'year': 'ar'}"
      ]
     },
     "execution_count": 154,
     "metadata": {},
     "output_type": "execute_result"
    }
   ],
   "source": [
    "translate({\"merry\":\"god\", \"christmas\":\"jul\", \"and\":\"och\", \"happy\":\"gott\", \"new\":\"nytt\", \"year\":\"ar\"}, \"merry christmas and happy happy new year\")"
   ]
  },
  {
   "cell_type": "code",
   "execution_count": 158,
   "id": "induced-evidence",
   "metadata": {},
   "outputs": [
    {
     "name": "stdout",
     "output_type": "stream",
     "text": [
      "2\n",
      "32\n",
      "None\n",
      "[2, 3, 4, 5, 6, 7, 8, 9, 10, 11, 12, 13, 14, 15, 16, 17, 18, 19, 20, 21, 22, 23, 24, 25, 26, 27, 28, 29, 30, 31, 32]\n"
     ]
    }
   ],
   "source": [
    "n1 = int(input())\n",
    "n2 = int(input())\n",
    "l=[]\n",
    "l1=[]\n",
    "for i in range (n1, n2+1):\n",
    "    l.append(i)\n",
    "for j in range (n1, n2+1):\n",
    "    l2=l1.append(j+1)\n",
    "print(l2)\n",
    "print(l)"
   ]
  },
  {
   "cell_type": "code",
   "execution_count": 2,
   "id": "directed-square",
   "metadata": {},
   "outputs": [
    {
     "name": "stdout",
     "output_type": "stream",
     "text": [
      "enter a value for n123\n",
      "enter a value for n223\n",
      "[23]\n",
      "[[23]]\n",
      "1\n"
     ]
    }
   ],
   "source": [
    "n1 = int(input(\"enter a value for n1\"))\n",
    "n2 = int(input(\"enter a value for n2\"))\n",
    "array = [i for i in range(n1, n2+1)]\n",
    "print(array)\n",
    "l1 = [array[i:j+1] for i in range(len(array)) for j in range(i,len(array))]\n",
    "print(l1)\n",
    "c=0\n",
    "for i in l1:\n",
    "    if sum(i)%2!=0:\n",
    "        c+=1\n",
    "print(c)"
   ]
  },
  {
   "cell_type": "code",
   "execution_count": null,
   "id": "postal-formula",
   "metadata": {},
   "outputs": [],
   "source": []
  }
 ],
 "metadata": {
  "kernelspec": {
   "display_name": "Python 3",
   "language": "python",
   "name": "python3"
  },
  "language_info": {
   "codemirror_mode": {
    "name": "ipython",
    "version": 3
   },
   "file_extension": ".py",
   "mimetype": "text/x-python",
   "name": "python",
   "nbconvert_exporter": "python",
   "pygments_lexer": "ipython3",
   "version": "3.7.1"
  }
 },
 "nbformat": 4,
 "nbformat_minor": 5
}
