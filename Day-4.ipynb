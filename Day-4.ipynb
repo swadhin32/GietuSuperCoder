{
 "cells": [
  {
   "cell_type": "code",
   "execution_count": 1,
   "id": "foreign-exercise",
   "metadata": {},
   "outputs": [],
   "source": [
    "def nearest_palindrome(n):\n",
    "    n1=n\n",
    "    while True:\n",
    "        n1=n1+1\n",
    "        if str(n1)==str(n1)[::-1]:\n",
    "            print(n1)\n",
    "            break"
   ]
  },
  {
   "cell_type": "code",
   "execution_count": 2,
   "id": "infrared-girlfriend",
   "metadata": {},
   "outputs": [
    {
     "name": "stdout",
     "output_type": "stream",
     "text": [
      "1331\n"
     ]
    }
   ],
   "source": [
    "nearest_palindrome(1221)"
   ]
  },
  {
   "cell_type": "code",
   "execution_count": 3,
   "id": "liberal-people",
   "metadata": {},
   "outputs": [],
   "source": [
    "def smallest_palindrome(n):\n",
    "    n1=n\n",
    "    while True:\n",
    "        n1=n1-1\n",
    "        if str(n1)==str(n1)[::-1]:\n",
    "            print(n1)\n",
    "            break"
   ]
  },
  {
   "cell_type": "code",
   "execution_count": 6,
   "id": "attached-english",
   "metadata": {},
   "outputs": [
    {
     "name": "stdout",
     "output_type": "stream",
     "text": [
      "1111\n"
     ]
    }
   ],
   "source": [
    "smallest_palindrome(1221)"
   ]
  },
  {
   "cell_type": "code",
   "execution_count": 23,
   "id": "smart-onion",
   "metadata": {},
   "outputs": [],
   "source": [
    "def medical(str1):\n",
    "    O=0\n",
    "    P=0\n",
    "    E=0\n",
    "    for i in range(0, len(str1), 2):\n",
    "        if str1[i+1]=='O':\n",
    "            O=O+int(str1[i])\n",
    "        if str1[i+1]=='P':\n",
    "            P=P+int(str1[i])\n",
    "        if str1[i+1]=='E':\n",
    "            E=E+int(str1[i])1\n",
    "\n",
    "    if O>P:\n",
    "        if O>E:\n",
    "            print(\"OrthoPedics\")\n",
    "        else:\n",
    "            print(\"ENT\")\n",
    "    else:\n",
    "        print(\"Pediatrics\")"
   ]
  },
  {
   "cell_type": "code",
   "execution_count": 25,
   "id": "adjustable-undergraduate",
   "metadata": {},
   "outputs": [
    {
     "name": "stdout",
     "output_type": "stream",
     "text": [
      "101,O,102,O,302,P,305,E,401,O,656,O\n",
      "OrthoPedics\n"
     ]
    }
   ],
   "source": [
    "str1 = input().split(',')\n",
    "medical(str1)"
   ]
  },
  {
   "cell_type": "code",
   "execution_count": 32,
   "id": "greatest-nowhere",
   "metadata": {},
   "outputs": [
    {
     "name": "stdout",
     "output_type": "stream",
     "text": [
      "I I I bro bro guy\n"
     ]
    }
   ],
   "source": [
    "str1=input().replace(\" \",'')"
   ]
  },
  {
   "cell_type": "code",
   "execution_count": 33,
   "id": "liked-rolling",
   "metadata": {},
   "outputs": [
    {
     "data": {
      "text/plain": [
       "['I', 'I', 'I', 'b', 'r', 'o', 'b', 'r', 'o', 'g', 'u', 'y']"
      ]
     },
     "execution_count": 33,
     "metadata": {},
     "output_type": "execute_result"
    }
   ],
   "source": [
    "letter = [x for x in str1]\n",
    "letter"
   ]
  },
  {
   "cell_type": "code",
   "execution_count": 34,
   "id": "developing-pontiac",
   "metadata": {},
   "outputs": [
    {
     "data": {
      "text/plain": [
       "{'I', 'b', 'g', 'o', 'r', 'u', 'y'}"
      ]
     },
     "execution_count": 34,
     "metadata": {},
     "output_type": "execute_result"
    }
   ],
   "source": [
    "set(letter)"
   ]
  },
  {
   "cell_type": "code",
   "execution_count": 36,
   "id": "several-serial",
   "metadata": {},
   "outputs": [],
   "source": [
    "ghi = {'a','b','g'}"
   ]
  },
  {
   "cell_type": "code",
   "execution_count": 37,
   "id": "seventh-insert",
   "metadata": {
    "scrolled": true
   },
   "outputs": [
    {
     "data": {
      "text/plain": [
       "True"
      ]
     },
     "execution_count": 37,
     "metadata": {},
     "output_type": "execute_result"
    }
   ],
   "source": [
    "'b' in ghi"
   ]
  },
  {
   "cell_type": "code",
   "execution_count": 41,
   "id": "oriental-reserve",
   "metadata": {},
   "outputs": [
    {
     "name": "stdout",
     "output_type": "stream",
     "text": [
      "I like Python\n",
      "Java is a very popular language\n",
      "ioyeln\n"
     ]
    }
   ],
   "source": [
    "str1=input().replace(\" \",'')\n",
    "str2=input().replace(\" \",'')\n",
    "str3=[]\n",
    "letter = [x for x in str1]\n",
    "str1 = set(str1)\n",
    "str2= set(str2)\n",
    "for i in str2:\n",
    "    if i in str1:\n",
    "        str3.append(i)\n",
    "if len(str3):\n",
    "    print(\"\".join(str3))\n",
    "else:\n",
    "    print(\"-1\")"
   ]
  },
  {
   "cell_type": "markdown",
   "id": "extraordinary-private",
   "metadata": {},
   "source": [
    "# OOps Python"
   ]
  },
  {
   "cell_type": "code",
   "execution_count": 3,
   "id": "eastern-daisy",
   "metadata": {},
   "outputs": [
    {
     "name": "stdout",
     "output_type": "stream",
     "text": [
      "The employee is eligible for special benifits\n",
      "The employee is not eligible for special benefits\n"
     ]
    }
   ],
   "source": [
    "class Employee:\n",
    "    def __init__(self):\n",
    "        self.employee_id = None\n",
    "    def check_eligibility(self):\n",
    "        if(self.employee_id>=9000 and self.employee_id<=10000):\n",
    "            print(\"The employee is eligible for special benifits\")\n",
    "        else:\n",
    "            print(\"The employee is not eligible for special benefits\")\n",
    "emp1=Employee()\n",
    "emp1.employee_id=10000\n",
    "emp1.check_eligibility()\n",
    "emp2=Employee()\n",
    "emp2.employee_id=4500\n",
    "emp2.check_eligibility()"
   ]
  },
  {
   "cell_type": "code",
   "execution_count": 5,
   "id": "awful-hazard",
   "metadata": {},
   "outputs": [
    {
     "name": "stdout",
     "output_type": "stream",
     "text": [
      "10\n",
      "15\n"
     ]
    }
   ],
   "source": [
    "class Example:\n",
    "    def __init__(self,num):\n",
    "        self.num=num\n",
    "    def set_num(self,num):\n",
    "        self.num=num\n",
    "    def get_num(self): \n",
    "        return self.num\n",
    "obj=Example(10)\n",
    "print(obj.get_num()) \n",
    "obj.set_num(15)\n",
    "print(obj.get_num())"
   ]
  },
  {
   "cell_type": "code",
   "execution_count": 15,
   "id": "superior-courage",
   "metadata": {},
   "outputs": [
    {
     "ename": "AttributeError",
     "evalue": "'Customer' object has no attribute 'cust_id'",
     "output_type": "error",
     "traceback": [
      "\u001b[1;31m---------------------------------------------------------------------------\u001b[0m",
      "\u001b[1;31mAttributeError\u001b[0m                            Traceback (most recent call last)",
      "\u001b[1;32m<ipython-input-15-6a4a44cd7492>\u001b[0m in \u001b[0;36m<module>\u001b[1;34m\u001b[0m\n\u001b[0;32m      3\u001b[0m         \u001b[0mcust_id\u001b[0m \u001b[1;33m=\u001b[0m \u001b[1;36m100\u001b[0m\u001b[1;33m\u001b[0m\u001b[1;33m\u001b[0m\u001b[0m\n\u001b[0;32m      4\u001b[0m \u001b[0mc1\u001b[0m\u001b[1;33m=\u001b[0m\u001b[0mCustomer\u001b[0m\u001b[1;33m(\u001b[0m\u001b[1;33m)\u001b[0m\u001b[1;33m\u001b[0m\u001b[1;33m\u001b[0m\u001b[0m\n\u001b[1;32m----> 5\u001b[1;33m \u001b[0mprint\u001b[0m\u001b[1;33m(\u001b[0m\u001b[0mc1\u001b[0m\u001b[1;33m.\u001b[0m\u001b[0mcust_id\u001b[0m\u001b[1;33m)\u001b[0m\u001b[1;33m\u001b[0m\u001b[1;33m\u001b[0m\u001b[0m\n\u001b[0m",
      "\u001b[1;31mAttributeError\u001b[0m: 'Customer' object has no attribute 'cust_id'"
     ]
    }
   ],
   "source": [
    "class Customer:\n",
    "    def __init__(self):\n",
    "        cust_id = 100\n",
    "c1=Customer()\n",
    "print(c1.cust_id)"
   ]
  },
  {
   "cell_type": "code",
   "execution_count": 19,
   "id": "falling-wilderness",
   "metadata": {
    "scrolled": false
   },
   "outputs": [
    {
     "name": "stdout",
     "output_type": "stream",
     "text": [
      "100\n"
     ]
    }
   ],
   "source": [
    "class Customer:\n",
    "    def __init__(self,id):\n",
    "        self.id = 100\n",
    "c1 = Customer(200)\n",
    "print(c1.id)"
   ]
  },
  {
   "cell_type": "code",
   "execution_count": 20,
   "id": "geographic-activation",
   "metadata": {
    "scrolled": false
   },
   "outputs": [
    {
     "name": "stdout",
     "output_type": "stream",
     "text": [
      "200\n"
     ]
    }
   ],
   "source": [
    "class Customer:\n",
    "    def __init__(self,id):\n",
    "        self.id = id\n",
    "c1 = Customer(200)\n",
    "print(c1.id)"
   ]
  },
  {
   "cell_type": "code",
   "execution_count": 21,
   "id": "ultimate-morgan",
   "metadata": {},
   "outputs": [
    {
     "name": "stdout",
     "output_type": "stream",
     "text": [
      "My favorite is Learning Python\n",
      "Your's is Learn Python the hard way\n"
     ]
    }
   ],
   "source": [
    "class Book:\n",
    "    def __init__(self):\n",
    "        self.title=None\n",
    "my_fav=Book()\n",
    "my_fav.title = \"Head First Programming\"\n",
    "your_fav = Book()\n",
    "your_fav.title = \"Learn Python the hard way\"\n",
    "\n",
    "my_fav.title = \"Learning Python\"\n",
    "\n",
    "print(\"My favorite is\", my_fav.title)\n",
    "print(\"Your's is\",your_fav.title)"
   ]
  },
  {
   "cell_type": "code",
   "execution_count": 22,
   "id": "nominated-rogers",
   "metadata": {},
   "outputs": [
    {
     "name": "stdout",
     "output_type": "stream",
     "text": [
      "<__main__.Shoe object at 0x000001B79BE04048>\n",
      "1000 Canvas\n"
     ]
    }
   ],
   "source": [
    "class Shoe:\n",
    "    def __init__(self, price, material):\n",
    "        self.price = price\n",
    "        self.material = material\n",
    "s1 = Shoe(1000, \"Canvas\")\n",
    "print(s1)\n",
    "print(s1.price, s1.material)"
   ]
  },
  {
   "cell_type": "code",
   "execution_count": 23,
   "id": "compliant-stranger",
   "metadata": {},
   "outputs": [
    {
     "name": "stdout",
     "output_type": "stream",
     "text": [
      "<__main__.Shoe object at 0x000001B79BE04390>\n",
      "<__main__.Shoe object at 0x000001B79BE04048>\n"
     ]
    }
   ],
   "source": [
    "class Shoe:\n",
    "    def __init__(self, price, material):\n",
    "        self.price = price\n",
    "        self.material = material\n",
    "        \n",
    "s1 = Shoe(1000,\"Canvas\")\n",
    "print(s1)\n",
    "s1 = Shoe(1200,\"BlurBerry\")\n",
    "print(s1)"
   ]
  },
  {
   "cell_type": "code",
   "execution_count": 30,
   "id": "shared-limit",
   "metadata": {},
   "outputs": [
    {
     "name": "stdout",
     "output_type": "stream",
     "text": [
      "Shoe with price: 1000 and material: Canvas\n"
     ]
    }
   ],
   "source": [
    "class Shoe:\n",
    "    def __init__(self, price, material):\n",
    "        self.price = price\n",
    "        self.material = material\n",
    "    def __str__(self):\n",
    "        return \"Shoe with price: \" + str(self.price) + \" and material: \" + self.material\n",
    "    \n",
    "s1 = Shoe(1000, \"Canvas\")\n",
    "print(s1)"
   ]
  },
  {
   "cell_type": "code",
   "execution_count": 68,
   "id": "headed-administration",
   "metadata": {},
   "outputs": [
    {
     "name": "stdout",
     "output_type": "stream",
     "text": [
      "1888105948664\n",
      "Displaying details apple\n",
      "Calculating price\n",
      "1888105949224\n",
      "Displaying details apple\n",
      "Calculating price\n",
      "1888105948664\n",
      "1888105949224\n"
     ]
    }
   ],
   "source": [
    "class Mobile:\n",
    "    def __init__(self,mango):\n",
    "        self.fruit = mango\n",
    "        print(id(self))\n",
    "        \n",
    "    def display(self,fruit):\n",
    "        print(\"Displaying details\",fruit)\n",
    "        \n",
    "    def purchase(self):\n",
    "        self.display(self.fruit)\n",
    "        print(\"Calculating price\")\n",
    "        \n",
    "Mobile(\"apple\").purchase()\n",
    "Mobile(\"apple\").purchase()\n",
    "\n",
    "m1 = Mobile(\"mango\")\n",
    "m2 = Mobile(\"orange\")"
   ]
  },
  {
   "cell_type": "code",
   "execution_count": 69,
   "id": "binding-requirement",
   "metadata": {},
   "outputs": [
    {
     "name": "stdout",
     "output_type": "stream",
     "text": [
      "m1 address before 1888105948664\n",
      "m2 address before 1888105949224\n",
      "Displaying details mango\n",
      "Calculating price\n",
      "Displaying details orange\n",
      "Calculating price\n",
      "Displaying details orange\n",
      "Calculating price\n",
      "Displaying details orange\n",
      "Calculating price\n",
      "m1 address after 1888105949224\n",
      "m2 address after 1888105949224\n"
     ]
    }
   ],
   "source": [
    "print(\"m1 address before\",id(m1))\n",
    "print(\"m2 address before\",id(m2))\n",
    "m1.purchase()\n",
    "m2.purchase()\n",
    "m1=m2\n",
    "m1.purchase()\n",
    "m2.purchase()\n",
    "print(\"m1 address after\",id(m1))\n",
    "print(\"m2 address after\",id(m2))"
   ]
  },
  {
   "cell_type": "code",
   "execution_count": 74,
   "id": "organizational-train",
   "metadata": {},
   "outputs": [
    {
     "name": "stdout",
     "output_type": "stream",
     "text": [
      "Total price of Apple mobile is 18000.0\n",
      "Amount return is  2000.0\n",
      "Total price of Samsung mobile is 9500.0\n",
      "Amount return is  500.0\n"
     ]
    }
   ],
   "source": [
    "class Mobile:\n",
    "    def __init__(self, brand, price):\n",
    "        self.brand = brand\n",
    "        self.price = price\n",
    "        self.total_price = None\n",
    "    def purchase(self):\n",
    "        if self.brand == \"Apple\":\n",
    "            discount = 10\n",
    "        else:\n",
    "            discount = 5\n",
    "        self.total_price = self.price - self.price * (discount/100)\n",
    "        print(\"Total price of\", self.brand, \"mobile is\", self.total_price)\n",
    "    def returnPrice(self):\n",
    "        if self.brand == \"Apple\":\n",
    "            discount = 10\n",
    "        else:\n",
    "            discount = 5\n",
    "        print(\"Amount return is \",self.price*(discount/100))\n",
    "mob1 = Mobile(\"Apple\", 20000)\n",
    "mob2 = Mobile(\"Samsung\", 10000)\n",
    "mob1.purchase()\n",
    "mob1.returnPrice()\n",
    "mob2.purchase()\n",
    "mob2.returnPrice()\n"
   ]
  },
  {
   "cell_type": "code",
   "execution_count": 92,
   "id": "intended-delhi",
   "metadata": {},
   "outputs": [
    {
     "name": "stdout",
     "output_type": "stream",
     "text": [
      "Warning can't add more than 1000\n",
      "The balance is  1800\n"
     ]
    }
   ],
   "source": [
    "class Customer:\n",
    "    def __init__(self, cust_id, name, age, wallet_balance):\n",
    "        self.cust_id = cust_id\n",
    "        self.name = name\n",
    "        self.age = age\n",
    "        self.__wallet_balance=wallet_balance\n",
    "    def get_balance(self):\n",
    "        return self.__wallet_balance\n",
    "      \n",
    "    def set_balance(self, x):\n",
    "        self.__wallet_balance = x\n",
    "    \n",
    "    def update_balance(self, amount):\n",
    "        if amount < 1000 and amount>0:\n",
    "            self.__wallet_balance +=amount\n",
    "        else:\n",
    "            print(\"Warning can't add more than 1000\")\n",
    "    def show_balance(self):\n",
    "        print(\"The balance is \",self.__wallet_balance)\n",
    "c1 = Customer(100, \"Gopal\", 24, 1000)\n",
    "c1.update_balance(500)\n",
    "c1.update_balance(300)\n",
    "c1.update_balance(1400)\n",
    "c1.show_balance()"
   ]
  },
  {
   "cell_type": "code",
   "execution_count": 93,
   "id": "directed-prototype",
   "metadata": {},
   "outputs": [
    {
     "data": {
      "text/plain": [
       "1800"
      ]
     },
     "execution_count": 93,
     "metadata": {},
     "output_type": "execute_result"
    }
   ],
   "source": [
    "c1.get_balance()"
   ]
  },
  {
   "cell_type": "code",
   "execution_count": 97,
   "id": "finite-shoot",
   "metadata": {},
   "outputs": [
    {
     "name": "stdout",
     "output_type": "stream",
     "text": [
      "Dam name: ABC dam\n",
      "Dam Length: 3.5\n"
     ]
    }
   ],
   "source": [
    "class Dam:\n",
    "    def __init__(self,name, length):\n",
    "        self.name =name\n",
    "        self.__length=length\n",
    "    def get_length(self):\n",
    "        return self.__length\n",
    "dam1 = Dam(\"ABC dam\", 3.5)\n",
    "print(\"Dam name:\", dam1.name)\n",
    "print(\"Dam Length:\", dam1.get_length())"
   ]
  },
  {
   "cell_type": "code",
   "execution_count": 99,
   "id": "medical-trauma",
   "metadata": {},
   "outputs": [
    {
     "name": "stdout",
     "output_type": "stream",
     "text": [
      "30000\n"
     ]
    }
   ],
   "source": [
    "class Table:\n",
    "    def __init__(self):\n",
    "        self.no_of_legs = 4\n",
    "        self.__glass_top=None\n",
    "        self.__wooden_top=None\n",
    "    def assign_data(self, glass_top, wooden_top):\n",
    "        self.__glass_top=glass_top\n",
    "        self.__wooden_top = wooden_top\n",
    "    def identity_rate(self, glass_top, wooden_top):\n",
    "        self.assign_data(glass_top, wooden_top)\n",
    "        if(self.__glass_top==True):\n",
    "            rate = 20000\n",
    "        elif(self.__wooden_top==True):\n",
    "            rate=30000\n",
    "        return rate\n",
    "dining_table = Table()\n",
    "rate = dining_table.identity_rate(False, True)\n",
    "print(rate)"
   ]
  },
  {
   "cell_type": "code",
   "execution_count": 105,
   "id": "macro-inclusion",
   "metadata": {},
   "outputs": [
    {
     "name": "stdout",
     "output_type": "stream",
     "text": [
      "<__main__.Table object at 0x000001B79BE26D68> <__main__.Table object at 0x000001B79BE26D68> <__main__.Table object at 0x000001B79BE26C50>\n"
     ]
    }
   ],
   "source": [
    "class Table:\n",
    "    def __init__(self,table_type):\n",
    "        self.no_of_legs = 4\n",
    "        self.glass_top=None\n",
    "        self.wooden_top=None\n",
    "        self.table=table_type\n",
    "    def table_type(self):\n",
    "        print(\"it is \",self.table)\n",
    "        print(id(self))\n",
    "dining_table = Table(\"dining table\")\n",
    "back_table = Table(\"back table\")\n",
    "front_table=back_table\n",
    "back_table=dining_table\n",
    "print(dining_table, back_table, front_table)"
   ]
  },
  {
   "cell_type": "code",
   "execution_count": 106,
   "id": "convertible-lancaster",
   "metadata": {},
   "outputs": [
    {
     "name": "stdout",
     "output_type": "stream",
     "text": [
      "it is  dining table\n",
      "1888105950568\n",
      "it is  dining table\n",
      "1888105950568\n",
      "it is  back table\n",
      "1888105950288\n"
     ]
    }
   ],
   "source": [
    "dining_table.table_type()\n",
    "back_table.table_type()\n",
    "front_table.table_type()"
   ]
  },
  {
   "cell_type": "code",
   "execution_count": null,
   "id": "internal-korean",
   "metadata": {},
   "outputs": [],
   "source": []
  }
 ],
 "metadata": {
  "kernelspec": {
   "display_name": "Python 3",
   "language": "python",
   "name": "python3"
  },
  "language_info": {
   "codemirror_mode": {
    "name": "ipython",
    "version": 3
   },
   "file_extension": ".py",
   "mimetype": "text/x-python",
   "name": "python",
   "nbconvert_exporter": "python",
   "pygments_lexer": "ipython3",
   "version": "3.7.1"
  }
 },
 "nbformat": 4,
 "nbformat_minor": 5
}
