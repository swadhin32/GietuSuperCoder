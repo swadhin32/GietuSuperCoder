{
 "cells": [
  {
   "cell_type": "markdown",
   "id": "capital-adaptation",
   "metadata": {},
   "source": [
    "A bank has many customers and each customer has a bank account\n",
    "There are also privileged customers \n",
    "who can earn bonus points for each of their transaction. \n",
    "This scenario is depicted through the below class diagram.\n",
    "30 min\n",
    "\n",
    "Customer\n",
    "- customer_id\n",
    "- customer_name\n",
    "- age\n",
    "- account\n",
    "__init__(customer_id, customer_name, age, account)\n",
    "+ withdraw(amount)\n",
    "+ take_card()\n",
    "+ get_customer_id()\n",
    "+ get_customer_name()\n",
    "+ get_age()\n",
    "+ get_account()\n",
    "Account\n",
    "- account_type\n",
    "- balance\n",
    "- min_balance\n",
    "__init__(account_type,balance,min_balance)\n",
    "+ get_account_type()\n",
    "+ get_balance()\n",
    "+ get_min_balance()\n",
    "+ set_balance(balance)\n",
    "PrivilegedCustomer\n",
    "- bonus_points\n",
    "__init__ (customer_id, customer_name, age, account, \n",
    "bonus_points)\n",
    "+ withdraw(amount)\n",
    "+ get_bonus_points()\n",
    "- increase_bonus()\n",
    "OverdrawException\n",
    "LimitReachedException\n",
    "\n",
    "RULES TO FOLLOW\n",
    "================\n",
    "Customer:\n",
    "withdraw(amount): This method should reduce the account balance based on the amount withdrawn. \n",
    "Raise the following exceptions based on the given conditions.\n",
    "OverdrawException - If the amount to be withdrawn is greater than account balance.\n",
    "LimitReachedException - If the balance amount is less than minimum account balance.\n",
    "take_card(): Displays the message \"Take card out from the ATM\".\n",
    "PrivilegedCustomer:\n",
    "increase_bonus(): If the account balance is greater than 1000, increase the bonus points by 10, else increase it by 2.\n",
    "withdraw(amount): Invoke the parent class withdraw() method and increase the bonus points by calling increase_bonus() method, if no exceptions occured.\n",
    "If exceptions occur, display relevant messages. Ensure that the card is taken out from the ATM under any situation.\n",
    "\n",
    "Write a Python program to create a new PrivilegedCustomer with below details:\n",
    "Customer Id: 100\n",
    "Customer Name: Gopal\n",
    "Age: 43\n",
    "Bonus Points: 100\n",
    "Account Type: Savings\n",
    "Account Balance: 1000\n",
    "Account minimum: 500\n",
    "\n",
    "The customer should be able to withdraw money and also display the bonus points of the customer after the withdraw.\n",
    "------------------------------------------\n",
    "\n",
    "A company is in the process of providing annual hike to its employees based on incentives and performance of the employee.\n",
    "A partial python program has been written for the above requirement, complete the code by using the information and part of class diagram given below:\n",
    "\n",
    "\n",
    "RULES TO FOLLOW\n",
    "=================\n",
    "Class Description:\n",
    "The program has three classes – Company, Employee and PermanentEmployee. Company and Employee classes are already coded for you. Refer starter code.\n",
    "\n",
    "Employee class:\n",
    "Every employee is given a performance rating (1-3) at the end of every year\n",
    "Last five year's performance rating of an employee is stored in the attribute, performance_list\n",
    "Refer table for example and interpretation of data in performance_list, assuming current year is 2015\n",
    "Permanent Employee class:\n",
    "identify_performance_hike():\n",
    "Permanent employees are eligible for performance hike based on their last three years performance as given in table\n",
    "Identify the hike % and return it. If hike is not applicable, return None\n",
    "identify_job_level_hike():\n",
    "Permanent employees are eligible for hike based on job level\n",
    "Identify job level based hike using the information provided in the Company class and return it. If hike cannot be identified, return None\n",
    "identify_incentive():\n",
    "Permanent employees are eligible for company level, employee level and permanent employee level incentives\n",
    "Calculate total incentive (in Rs) and return it\n",
    "calculate_salary(): Calculate total salary\n",
    "Implement it in the same way as it is implemented in Employee class\n",
    "Note: Perform case sensitive string comparison \n",
    "For testing:\n",
    "Create objects of Company class and PermanentEmployee class\n",
    "Invoke calculate_salary() on PermanentEmployee object\n",
    "Display the details of the employee\n",
    "\n"
   ]
  },
  {
   "cell_type": "code",
   "execution_count": 80,
   "id": "approved-joint",
   "metadata": {},
   "outputs": [],
   "source": [
    "class OverdrawException(Exception):\n",
    "    pass\n",
    "        \n",
    "class LimitReachedException(Exception):\n",
    "    pass\n",
    "    \n",
    "class Customer(OverdrawException,LimitReachedException):\n",
    "    def _init__(self, customer_id, customer_name, age, account):\n",
    "        self.__customer_id=customer_id\n",
    "        self.__customer_name = customer_name\n",
    "        self.__customer_age = age\n",
    "        self.__customer_account=account\n",
    "    def withdraw(self,amount):\n",
    "        try:\n",
    "            if amount>self.__customer_account.get_balance():\n",
    "                raise OverdrawException\n",
    "            if self.__customer_account.get_balance()<self.__customer_account.get_min_balance():\n",
    "                raise LimitReachedException\n",
    "            else:\n",
    "                self.__customer_account.set_balance(self.__customer_account.get_balance()-amount)\n",
    "        except OverdrawException:\n",
    "            print(\"OverdrawException: Can't withdraw!! amount can't greater than your balance\")\n",
    "        except LimitReachedException:\n",
    "            print(\"LimitReachedEception: Can't withdraw!! Your balance reached the minimum limit\")\n",
    "    def take_card(self):\n",
    "        print(\"Take your card Out\")\n",
    "    def get_customer_id(self):\n",
    "        return self.__customer_id\n",
    "    def get_customer_name(self):\n",
    "        return self.__customer_name\n",
    "    def get_age(self):\n",
    "        return self.__customer_age\n",
    "    def get_account(self):\n",
    "        return self.__customer_account\n",
    "class Account:\n",
    "    def __init_(self, account_type, balance,min_balance):\n",
    "        self._account_type = account_type\n",
    "        self.__balance = balance\n",
    "        self.__min_balance = min_balance\n",
    "    def get_account_type(self):\n",
    "        return self.__account_type\n",
    "    def get_balance(self):\n",
    "        return self.__balance\n",
    "    def get_min_balance(self):\n",
    "        return self.__min_balance\n",
    "    def set_balance(self,balance):\n",
    "        self.__balance=balance\n",
    "class PrivilegedCustomer(OverdrawException,LimitReachedException):\n",
    "    def _init__(self, customer_id, customer_name, age, account, bonus_points):\n",
    "        self.customer_id=customer_id\n",
    "        self.customer_name = customer_name\n",
    "        self.age = age\n",
    "        self.account=account\n",
    "        self.__bonus_points=bonus_points\n",
    "    def withdraw(self,amount):\n",
    "        try:\n",
    "            if amount>self.account.get_balance():\n",
    "                raise OverdrawException\n",
    "            if self.account.get_balance()<self.account.get_min_balance():\n",
    "                raise LimitReachedException\n",
    "            else:\n",
    "                self.account.set_balance(self.account.get_balance()-amount)\n",
    "                self.__increase_bonus()\n",
    "        except OverdrawException:\n",
    "            print(\"OverdrawException: Can't withdraw!! amount can't greater than your balance\")\n",
    "        except LimitReachedException:\n",
    "            print(\"LimitReachedEception: Can't withdraw!! Your balance reached the minimum limit\")\n",
    "    def get_bonus_points(self):\n",
    "        return self.__bonus_points\n",
    "    def _increase_bonus(self):\n",
    "        if self.account.get_balance()>1000:\n",
    "            self.__bonus_points+=10\n",
    "        else:\n",
    "            self.__bonus_points+=4"
   ]
  },
  {
   "cell_type": "code",
   "execution_count": 81,
   "id": "presidential-digit",
   "metadata": {},
   "outputs": [
    {
     "ename": "TypeError",
     "evalue": "Account() takes no arguments",
     "output_type": "error",
     "traceback": [
      "\u001b[1;31m---------------------------------------------------------------------------\u001b[0m",
      "\u001b[1;31mTypeError\u001b[0m                                 Traceback (most recent call last)",
      "\u001b[1;32m<ipython-input-81-adcb4a88b87f>\u001b[0m in \u001b[0;36m<module>\u001b[1;34m\u001b[0m\n\u001b[1;32m----> 1\u001b[1;33m \u001b[0mac1\u001b[0m\u001b[1;33m=\u001b[0m\u001b[0mAccount\u001b[0m\u001b[1;33m(\u001b[0m\u001b[1;34m\"saving\"\u001b[0m\u001b[1;33m,\u001b[0m\u001b[1;36m5000\u001b[0m\u001b[1;33m,\u001b[0m\u001b[1;36m500\u001b[0m\u001b[1;33m)\u001b[0m\u001b[1;33m\u001b[0m\u001b[1;33m\u001b[0m\u001b[0m\n\u001b[0m",
      "\u001b[1;31mTypeError\u001b[0m: Account() takes no arguments"
     ]
    }
   ],
   "source": [
    "ac1=Account(\"saving\",5000,500)"
   ]
  },
  {
   "cell_type": "code",
   "execution_count": 107,
   "id": "blessed-decision",
   "metadata": {},
   "outputs": [],
   "source": [
    "import random\n",
    "class Apparel:\n",
    "    counter = 100\n",
    "    def __init__(self,typee,price):\n",
    "        self.item_id = typee+str(random.randint(101,999))\n",
    "        self.price=price\n",
    "    def calculate_price(self,vat):\n",
    "        if self.item_id[0]=='C':\n",
    "            self.price=self.price+self.price*(vat/100)+self.price*(0.05)-self.price*(0.08)\n",
    "            print(self.price)\n",
    "        if self.item_id[0]=='S':\n",
    "            self.price=self.price+self.price*(vat/100)+self.price*(0.05)-self.price*(0.20)\n",
    "            print(self.price)\n",
    "        \n",
    "class Cotton(Apparel):\n",
    "    def __init__(self,price):\n",
    "        super().__init__(\"C\",price)\n",
    "        \n",
    "    def calculate_price(self):\n",
    "        super().calculate_price(5)\n",
    "class Silk(Apparel):\n",
    "    def __init__(self,price):\n",
    "        super().__init__(\"S\",price)\n",
    "        if(price>10000):\n",
    "            self.points=10\n",
    "        else:\n",
    "            self.points=3\n",
    "    def calculate_price(self):\n",
    "        super().calculate_price(10)\n",
    "    def getPoints(self):\n",
    "        return selp.points\n",
    "    def setPoints(self,points):\n",
    "        self.points=points"
   ]
  },
  {
   "cell_type": "code",
   "execution_count": 108,
   "id": "funny-criterion",
   "metadata": {},
   "outputs": [],
   "source": [
    "c1 = Cotton(500)"
   ]
  },
  {
   "cell_type": "code",
   "execution_count": 109,
   "id": "liquid-sweden",
   "metadata": {},
   "outputs": [
    {
     "name": "stdout",
     "output_type": "stream",
     "text": [
      "510.0\n",
      "None\n"
     ]
    }
   ],
   "source": [
    "print(c1.calculate_price())"
   ]
  },
  {
   "cell_type": "markdown",
   "id": "outdoor-hurricane",
   "metadata": {},
   "source": [
    "###### "
   ]
  },
  {
   "cell_type": "code",
   "execution_count": null,
   "id": "egyptian-month",
   "metadata": {},
   "outputs": [],
   "source": []
  },
  {
   "cell_type": "code",
   "execution_count": 85,
   "id": "hourly-judges",
   "metadata": {},
   "outputs": [
    {
     "data": {
      "text/plain": [
       "2"
      ]
     },
     "execution_count": 85,
     "metadata": {},
     "output_type": "execute_result"
    }
   ],
   "source": [
    "import random\n",
    "random.randint(1,10)"
   ]
  },
  {
   "cell_type": "code",
   "execution_count": null,
   "id": "tired-seattle",
   "metadata": {},
   "outputs": [],
   "source": []
  }
 ],
 "metadata": {
  "kernelspec": {
   "display_name": "Python 3",
   "language": "python",
   "name": "python3"
  },
  "language_info": {
   "codemirror_mode": {
    "name": "ipython",
    "version": 3
   },
   "file_extension": ".py",
   "mimetype": "text/x-python",
   "name": "python",
   "nbconvert_exporter": "python",
   "pygments_lexer": "ipython3",
   "version": "3.7.1"
  }
 },
 "nbformat": 4,
 "nbformat_minor": 5
}
