{
 "cells": [
  {
   "cell_type": "code",
   "execution_count": 15,
   "id": "handled-delhi",
   "metadata": {},
   "outputs": [
    {
     "name": "stdout",
     "output_type": "stream",
     "text": [
      "max size = 4\n",
      "50\n",
      "40\n",
      "20\n",
      "10\n",
      "After POP\n",
      "40\n",
      "20\n",
      "10\n"
     ]
    }
   ],
   "source": [
    "class Stack:\n",
    "    def __init__(self, max_size):\n",
    "        self.__max_size = max_size\n",
    "        self.__elements = [None]*self.__max_size\n",
    "        self.__top = -1\n",
    "        \n",
    "    def is_full(self):\n",
    "        if(self.__top==self.__max_size-1):\n",
    "            return True\n",
    "        return False\n",
    "    \n",
    "    def is_empty(self):\n",
    "        if(self.__top==-1):\n",
    "            return True\n",
    "        return Falsem\n",
    "    def push(self, data):\n",
    "        if(self.is_full()):\n",
    "            print(\"Stack is full can't insert\")\n",
    "        else:\n",
    "            self.__top=self.__top+1\n",
    "            self.__elements[self.__top]=data\n",
    "    def pop(self):\n",
    "        if(self.is_empty()):\n",
    "            print(\"Stack is empty\")\n",
    "        else:\n",
    "            self.__top=self.__top-1\n",
    "    def display(self):\n",
    "        if(self.is_empty()):\n",
    "            print(\"Stack is empty\")\n",
    "        else:\n",
    "            index = self.__top\n",
    "            while(index>=0):\n",
    "                print(self.__elements[index])\n",
    "                index-=1\n",
    "    def get_max_size(self):\n",
    "        return self.__max_size\n",
    "            \n",
    "\n",
    "s1 = Stack(4)\n",
    "print(\"max size =\",s1.get_max_size())\n",
    "s1.push(10)\n",
    "s1.push(20)\n",
    "s1.push(40)\n",
    "s1.push(50)\n",
    "s1.display()\n",
    "print(\"After POP\")\n",
    "s1.pop()\n",
    "s1.display()"
   ]
  },
  {
   "cell_type": "code",
   "execution_count": 11,
   "id": "laden-desktop",
   "metadata": {},
   "outputs": [
    {
     "name": "stdout",
     "output_type": "stream",
     "text": [
      "40\n",
      "20\n",
      "10\n"
     ]
    }
   ],
   "source": []
  },
  {
   "cell_type": "code",
   "execution_count": 9,
   "id": "protective-guyana",
   "metadata": {},
   "outputs": [
    {
     "data": {
      "text/plain": [
       "list"
      ]
     },
     "execution_count": 9,
     "metadata": {},
     "output_type": "execute_result"
    }
   ],
   "source": []
  },
  {
   "cell_type": "code",
   "execution_count": 22,
   "id": "independent-volleyball",
   "metadata": {},
   "outputs": [
    {
     "name": "stdout",
     "output_type": "stream",
     "text": [
      "Is it full False\n",
      "Is it empty True\n",
      "100\n",
      "200\n",
      "300\n",
      "400\n",
      "Queue is full\n",
      "200\n",
      "300\n",
      "400\n"
     ]
    }
   ],
   "source": [
    "class Queue:\n",
    "    def __init__(self, max_size):\n",
    "        self.__max_size=max_size\n",
    "        self.__elements = [None]*max_size\n",
    "        self.__front = 0\n",
    "        self.__rear = -1\n",
    "        \n",
    "    def is_empty(self):\n",
    "        if self.__front>self.__rear:\n",
    "            return True\n",
    "        return False\n",
    "            \n",
    "    def is_full(self):\n",
    "        if self.__rear==self.__max_size-1:\n",
    "            return True\n",
    "        return False\n",
    "    def enqueue(self,data):\n",
    "        if(self.is_full()):\n",
    "            print(\"Queue is full\")\n",
    "        else:\n",
    "            self.__rear+=1\n",
    "            self.__elements[self.__rear]=data\n",
    "    def dequeue(self):\n",
    "        if(self.is_empty()):\n",
    "            print(\"Queue is empty!!!\")\n",
    "        else:\n",
    "            data = self.__elements[self.__front]\n",
    "            self.__front+=1\n",
    "            return data\n",
    "    def display(self):\n",
    "        for i in range(self.__front, self.__rear+1):\n",
    "             print(self.__elements[i])\n",
    "    def get_max_size(self):\n",
    "        return self.__max_size\n",
    "\n",
    "queue1 = Queue(4)\n",
    "print(\"Is it full\",queue1.is_full())\n",
    "print(\"Is it empty\", queue1.is_empty())\n",
    "queue1.enqueue(100)\n",
    "queue1.enqueue(200)\n",
    "queue1.enqueue(300)\n",
    "queue1.enqueue(400)\n",
    "queue1.display()\n",
    "queue1.enqueue(500)\n",
    "queue1.dequeue()\n",
    "queue1.display()"
   ]
  },
  {
   "cell_type": "code",
   "execution_count": 25,
   "id": "canadian-runner",
   "metadata": {},
   "outputs": [
    {
     "name": "stdout",
     "output_type": "stream",
     "text": [
      "Is it full False\n",
      "Is it empty True\n",
      "13983\n",
      "10080\n",
      "7113\n",
      "2520\n",
      "2500\n",
      "Answer are\n",
      "10080\n",
      "2520\n"
     ]
    }
   ],
   "source": [
    "class Queue:\n",
    "    def __init__(self, max_size):\n",
    "        self.__max_size=max_size\n",
    "        self.__elements = [None]*max_size\n",
    "        self.__front = 0\n",
    "        self.__rear = -1\n",
    "        \n",
    "    def is_empty(self):\n",
    "        if self.__front>self.__rear:\n",
    "            return True\n",
    "        return False\n",
    "            \n",
    "    def is_full(self):\n",
    "        if self.__rear==self.__max_size-1:\n",
    "            return True\n",
    "        return False\n",
    "    def enqueue(self,data):\n",
    "        if(self.is_full()):\n",
    "            print(\"Queue is full\")\n",
    "        else:\n",
    "            self.__rear+=1\n",
    "            self.__elements[self.__rear]=data\n",
    "    def dequeue(self):\n",
    "        if(self.is_empty()):\n",
    "            print(\"Queue is empty!!!\")\n",
    "        else:\n",
    "            data = self.__elements[self.__front]\n",
    "            self.__front+=1\n",
    "            return data\n",
    "    def calculate(self,queue):\n",
    "        \n",
    "        for i in range(self.__front, self.__rear+1):\n",
    "            even = True\n",
    "            for j in range(1,11):\n",
    "                if self.__elements[i]%j!=0:\n",
    "                    even=False\n",
    "            if even:\n",
    "                queue.enqueue(self.__elements[i])\n",
    "        return queue\n",
    "    def display(self):\n",
    "        for i in range(self.__front, self.__rear+1):\n",
    "             print(self.__elements[i])\n",
    "    def get_max_size(self):\n",
    "        return self.__max_size\n",
    "\n",
    "queue1 = Queue(5)\n",
    "queue2 = Queue(5)\n",
    "print(\"Is it full\",queue1.is_full())\n",
    "print(\"Is it empty\", queue1.is_empty())\n",
    "queue1.enqueue(13983)\n",
    "queue1.enqueue(10080)\n",
    "queue1.enqueue(7113)\n",
    "queue1.enqueue(2520)\n",
    "queue1.enqueue(2500)\n",
    "queue1.display()\n",
    "queue2 = queue1.calculate(queue2)\n",
    "print(\"Answer are\")\n",
    "queue2.display()"
   ]
  },
  {
   "cell_type": "code",
   "execution_count": 84,
   "id": "organized-feedback",
   "metadata": {},
   "outputs": [],
   "source": [
    "list1 = ['A', 'app', 'a', 'd', 'ke', 'th', 'doc', 'awa']\n",
    "list2 = ['y','tor','e','eps','ay',None,'le','n']\n",
    "str1 = \"\""
   ]
  },
  {
   "cell_type": "code",
   "execution_count": 86,
   "id": "signed-cylinder",
   "metadata": {},
   "outputs": [
    {
     "data": {
      "text/plain": [
       "'An apple a day keeps the doctor away'"
      ]
     },
     "execution_count": 86,
     "metadata": {},
     "output_type": "execute_result"
    }
   ],
   "source": [
    "#\" \".join(str(list1[i]+list2[-(i+1)]) for i in range(len(list1)))\n",
    "list3 = []\n",
    "for i in range(len(list1)):\n",
    "    if list1[i]:\n",
    "        if list2[-(i+1)]:\n",
    "            list3.append(list1[i]+list2[-(i+1)])\n",
    "        else:\n",
    "            list3.append(list1[i])\n",
    "    else:\n",
    "        list3(list2[-(i+1)])\n",
    "\" \".join(i for i in list3)"
   ]
  },
  {
   "cell_type": "code",
   "execution_count": 65,
   "id": "consecutive-channel",
   "metadata": {},
   "outputs": [
    {
     "name": "stdout",
     "output_type": "stream",
     "text": [
      "Enter Queue1 ele 3\n",
      "Enter Queue1 ele 6\n",
      "Enter Queue1 ele 8\n",
      "Enter Queue2 ele b\n",
      "Enter Queue2 ele y\n",
      "Enter Queue2 ele u\n",
      "Enter Queue2 ele t\n",
      "Enter Queue2 ele r\n",
      "Enter Queue2 ele o\n",
      "Queue1 elements\n",
      "3\n",
      "6\n",
      "8\n",
      "Queue2 elements\n",
      "b\n",
      "y\n",
      "u\n",
      "t\n",
      "r\n",
      "o\n",
      "Answer are\n",
      "3\n",
      "b\n",
      "6\n",
      "y\n",
      "8\n",
      "u\n",
      "t\n",
      "r\n",
      "o\n"
     ]
    }
   ],
   "source": [
    "class Queue:\n",
    "    def __init__(self, max_size):\n",
    "        self.__max_size=max_size\n",
    "        self.__elements = [None]*max_size\n",
    "        self.__front = 0\n",
    "        self.__rear = -1\n",
    "        \n",
    "    def is_empty(self):\n",
    "        if self.__front>self.__rear:\n",
    "            return True\n",
    "        return False\n",
    "            \n",
    "    def is_full(self):\n",
    "        if self.__rear==self.__max_size-1:\n",
    "            return True\n",
    "        return False\n",
    "    def enqueue(self,data):\n",
    "        if(self.is_full()):\n",
    "            print(\"Queue is full\")\n",
    "        else:\n",
    "            self.__rear+=1\n",
    "            self.__elements[self.__rear]=data\n",
    "    def dequeue(self):\n",
    "        if(self.is_empty()):\n",
    "            print(\"Queue is empty!!!\")\n",
    "        else:\n",
    "            data = self.__elements[self.__front]\n",
    "            self.__front+=1\n",
    "            return data\n",
    "    def calculate(self,queue1,queue2,queue):\n",
    "        mine = min(queue1.get_max_size(),queue2.get_max_size())\n",
    "        maxe = max(queue1.get_max_size(),queue2.get_max_size())\n",
    "        if queue1.get_max_size()>queue2.get_max_size():\n",
    "            queue3 = queue1\n",
    "        else:\n",
    "            queue3 = queue2\n",
    "        for i in range(maxe):\n",
    "            if i<=mine-1:\n",
    "                queue.enqueue(queue1.dequeue())\n",
    "                queue.enqueue(queue2.dequeue())\n",
    "            else:\n",
    "                queue.enqueue(queue3.dequeue())\n",
    "        return queue\n",
    "    def display(self):\n",
    "        for i in range(self.__front, self.__rear+1):\n",
    "             print(self.__elements[i])\n",
    "    def get_max_size(self):\n",
    "        return self.__max_size\n",
    "\n",
    "queue1 = Queue(3)\n",
    "queue2 = Queue(6)\n",
    "queue3 = Queue(queue1.get_max_size()+queue2.get_max_size())\n",
    "\n",
    "for i in range(queue1.get_max_size()):\n",
    "    queue1.enqueue(int(input(\"Enter Queue1 ele \")z))\n",
    "for i in range(queue2.get_max_size()):\n",
    "    queue2.enqueue(input(\"Enter Queue2 ele \"))\n",
    "# queue1 3,6,8 and in queue2 b,y,u,t,r,o\n",
    "print(\"Queue1 elements\")\n",
    "queue1.display()\n",
    "print(\"Queue2 elements\")\n",
    "queue2.display()\n",
    "queue3 = queue3.calculate(queue1,queue2,queue3)\n",
    "print(\"Answer are\")\n",
    "queue3.display()"
   ]
  },
  {
   "cell_type": "code",
   "execution_count": 127,
   "id": "automatic-faith",
   "metadata": {},
   "outputs": [],
   "source": [
    "class Node:\n",
    "    def __init__(self,data,node):\n",
    "        self.data = data\n",
    "        self.node = node\n",
    "    \n",
    "    \n",
    "list1 = ['A','n','*','/','a','p','p','l','e','*','a','/','day','*','*','k','e','e','p','s',',','/','*','a','/','/','d','o','c','t','o','r','*','A','w','a','y']\n",
    "head = Node(list1[0],None)\n",
    "temp = head\n",
    "for i in range(len(list1)):\n",
    "    if i>=1:\n",
    "        tail = Node(list1[i],None)\n",
    "        temp.node = tail\n",
    "        temp=tail\n",
    "temp = head\n",
    "list1 = []\n",
    "one = 0\n",
    "while(temp):\n",
    "    if one==1 and (temp.data=='*' or temp.data=='/'):\n",
    "        one=2\n",
    "    elif one==2:\n",
    "        list1.append(temp.data.upper())\n",
    "        one=0\n",
    "    elif temp.data=='*' or temp.data=='/':\n",
    "        list1.append(' ')\n",
    "        one = one+1\n",
    "    else:\n",
    "        list1.append(temp.data)\n",
    "        one=0\n",
    "    temp=temp.node  "
   ]
  },
  {
   "cell_type": "code",
   "execution_count": 128,
   "id": "combined-somerset",
   "metadata": {},
   "outputs": [
    {
     "data": {
      "text/plain": [
       "'An Apple a day Keeps, A Doctor Away'"
      ]
     },
     "execution_count": 128,
     "metadata": {},
     "output_type": "execute_result"
    }
   ],
   "source": [
    "''.join(i for i in list1)"
   ]
  },
  {
   "cell_type": "code",
   "execution_count": 1,
   "id": "synthetic-dealing",
   "metadata": {},
   "outputs": [
    {
     "name": "stdout",
     "output_type": "stream",
     "text": [
      "Mon\n",
      "Tue\n",
      "Wed\n"
     ]
    }
   ],
   "source": [
    "class Node:\n",
    "    def __init__(self, dataval=None):\n",
    "        self.dataval = dataval\n",
    "        self.nextval = None\n",
    "\n",
    "class SLinkedList:\n",
    "    def __init__(self):\n",
    "        self.headval = None\n",
    "\n",
    "    def listprint(self):\n",
    "        printval = self.headval\n",
    "        while printval is not None:\n",
    "            print (printval.dataval)\n",
    "            printval = printval.nextval\n",
    "    def AtBegining(self,newdata):\n",
    "        NewNode = Node(newdata)\n",
    "        NewNode.nextval = self.headval\n",
    "        self.headval = NewNode\n",
    "    def AtEnd(self, newdata):\n",
    "        NewNode = Node(newdata)\n",
    "        if self.headval is None:\n",
    "            self.headval = NewNode\n",
    "            return\n",
    "        laste = self.headval\n",
    "        while(laste.nextval):\n",
    "            laste = laste.nextval\n",
    "        laste.nextval = NewNode\n",
    "    def Inbetween(self,middle_node,newdata):\n",
    "        if middle_node is None:\n",
    "            print(\"The mentioned node is absent\")\n",
    "            return\n",
    "        NewNode = Node(newdata)\n",
    "        NewNode.nextval = middle_node.nextval\n",
    "        middle_node.nextval = NewNode\n",
    "    def delete_at_start(self):\n",
    "        self.headval = self.headval.nextval\n",
    "    def delete_at_end(self):\n",
    "        printval = self.headval\n",
    "        while True:\n",
    "            if printval.nextval.nextval==None:\n",
    "                printval.nextval=None\n",
    "                break\n",
    "            printval = printval.nextval\n",
    "    def delete_at_pos(self,pos):\n",
    "        temp = self.headval\n",
    "        for i in range(pos):\n",
    "            if i==pos-2:\n",
    "                temp.nextval=temp.nextval.nextval\n",
    "                break\n",
    "            temp=temp.nextval\n",
    "    def reverse(self):\n",
    "        l1 = []\n",
    "        printval = self.headval\n",
    "        while printval is not None:\n",
    "            l1.append(printval.dataval)\n",
    "            printval = printval.nextval\n",
    "        list = SLinkedList()\n",
    "        list.headval = Node(l1[-1])\n",
    "        temp = list.headval\n",
    "        for i in range(2,len(l1)+1):\n",
    "            Newnode = Node(l1[-i])\n",
    "            temp.nextval = Newnode\n",
    "            temp=Newnode\n",
    "        return list\n",
    "    def search_item(self, data):\n",
    "        pass\n",
    "\n",
    "list = SLinkedList()\n",
    "list.headval = Node(\"Mon\")\n",
    "e2 = Node(\"Tue\")\n",
    "\n",
    "e3 = Node(\"Wed\")\n",
    "\n",
    "# Link first Node to second node\n",
    "list.headval.nextval = e2\n",
    "\n",
    "# Link second Node to third node\n",
    "e2.nextval = e3\n",
    "\n",
    "list.listprint()"
   ]
  },
  {
   "cell_type": "code",
   "execution_count": 3,
   "id": "danish-pocket",
   "metadata": {},
   "outputs": [
    {
     "name": "stdout",
     "output_type": "stream",
     "text": [
      "Mon\n",
      "Wed\n"
     ]
    }
   ],
   "source": [
    "list.delete_at_pos(2)\n",
    "list.listprint()"
   ]
  },
  {
   "cell_type": "code",
   "execution_count": 4,
   "id": "relevant-founder",
   "metadata": {},
   "outputs": [
    {
     "name": "stdout",
     "output_type": "stream",
     "text": [
      "Wed\n",
      "Mon\n"
     ]
    }
   ],
   "source": [
    "l2 = list.reverse()\n",
    "l2.listprint()\n",
    "#l2.delete_at_start()"
   ]
  },
  {
   "cell_type": "code",
   "execution_count": 166,
   "id": "disciplinary-socket",
   "metadata": {},
   "outputs": [
    {
     "name": "stdout",
     "output_type": "stream",
     "text": [
      "Tue\n",
      "Mon\n"
     ]
    }
   ],
   "source": [
    "l2.listprint()\n",
    "l2.delete_at_end()"
   ]
  },
  {
   "cell_type": "code",
   "execution_count": 167,
   "id": "valid-johns",
   "metadata": {},
   "outputs": [
    {
     "name": "stdout",
     "output_type": "stream",
     "text": [
      "Tue\n"
     ]
    }
   ],
   "source": [
    "l2.listprint()"
   ]
  },
  {
   "cell_type": "code",
   "execution_count": 147,
   "id": "junior-cookie",
   "metadata": {},
   "outputs": [
    {
     "name": "stdout",
     "output_type": "stream",
     "text": [
      "Sun\n",
      "Mon\n",
      "Tue\n",
      "Wed\n"
     ]
    }
   ],
   "source": [
    "list.AtBegining('Sun')\n",
    "list.listprint()"
   ]
  },
  {
   "cell_type": "code",
   "execution_count": 148,
   "id": "approved-kingdom",
   "metadata": {},
   "outputs": [
    {
     "name": "stdout",
     "output_type": "stream",
     "text": [
      "Sun\n",
      "Mon\n",
      "Tue\n",
      "Wed\n",
      "Thu\n"
     ]
    }
   ],
   "source": [
    "list.AtEnd('Thu')\n",
    "list.listprint()"
   ]
  },
  {
   "cell_type": "code",
   "execution_count": 149,
   "id": "contemporary-cyprus",
   "metadata": {},
   "outputs": [
    {
     "data": {
      "text/plain": [
       "1"
      ]
     },
     "execution_count": 149,
     "metadata": {},
     "output_type": "execute_result"
    }
   ],
   "source": [
    "l1 = [1,2,3,4]\n",
    "l1[-4]"
   ]
  },
  {
   "cell_type": "markdown",
   "id": "nominated-favor",
   "metadata": {},
   "source": [
    "## Homework"
   ]
  },
  {
   "cell_type": "code",
   "execution_count": 9,
   "id": "demonstrated-optics",
   "metadata": {},
   "outputs": [
    {
     "name": "stdout",
     "output_type": "stream",
     "text": [
      "11,8,23,7,25,15\n",
      "6,33,50,31,46,78,16,34\n"
     ]
    },
    {
     "data": {
      "text/plain": [
       "[8, 23, 25]"
      ]
     },
     "execution_count": 9,
     "metadata": {},
     "output_type": "execute_result"
    }
   ],
   "source": [
    "list1 = [int(x) for x in input().split(',')]\n",
    "list2 = [int(x) for x in input().split(',')]\n",
    "list3 = []\n",
    "for i in list1:\n",
    "    if 2*i in list2:\n",
    "        list3.append(i)\n",
    "list3"
   ]
  },
  {
   "cell_type": "code",
   "execution_count": null,
   "id": "verbal-slope",
   "metadata": {},
   "outputs": [],
   "source": []
  }
 ],
 "metadata": {
  "kernelspec": {
   "display_name": "Python 3",
   "language": "python",
   "name": "python3"
  },
  "language_info": {
   "codemirror_mode": {
    "name": "ipython",
    "version": 3
   },
   "file_extension": ".py",
   "mimetype": "text/x-python",
   "name": "python",
   "nbconvert_exporter": "python",
   "pygments_lexer": "ipython3",
   "version": "3.7.1"
  }
 },
 "nbformat": 4,
 "nbformat_minor": 5
}
