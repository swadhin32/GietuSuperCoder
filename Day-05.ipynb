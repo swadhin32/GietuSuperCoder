{
 "cells": [
  {
   "cell_type": "code",
   "execution_count": 1,
   "id": "organized-convenience",
   "metadata": {},
   "outputs": [],
   "source": [
    "class Vehicle:\n",
    "    def __init__(self,typee,cost):\n",
    "        self.__id=id(self)\n",
    "        self.__type=typee\n",
    "        self.__cost=cost\n",
    "        self.__premium=None\n",
    "    def setPremium(self):\n",
    "        if self.__type=='2wheeler':\n",
    "            self.__premium=self.__cost*(2/100)\n",
    "        elif self.__type=='4wheeler':\n",
    "            self.__premium=self.__cost*(6/100)\n",
    "        else:\n",
    "            self.__premium=\"Invalid Vehicle Type\"\n",
    "    def getPremium(self):\n",
    "        return self.__premium\n",
    "    def setId(self,id):\n",
    "        self.__id=id\n",
    "    def setType(self,typee):\n",
    "        self.__type=typee\n",
    "    def getType(self):\n",
    "        return self.__type\n",
    "    def setCost(self,cost):\n",
    "        self.__cost=cost\n",
    "    def getCost(self):\n",
    "        return self.__cost"
   ]
  },
  {
   "cell_type": "code",
   "execution_count": 2,
   "id": "boring-bullet",
   "metadata": {},
   "outputs": [],
   "source": [
    "v1 = Vehicle(\"2wheeler\",1000)"
   ]
  },
  {
   "cell_type": "code",
   "execution_count": 3,
   "id": "abstract-douglas",
   "metadata": {},
   "outputs": [
    {
     "name": "stdout",
     "output_type": "stream",
     "text": [
      "2wheeler\n",
      "1000\n",
      "20.0\n",
      "<__main__.Vehicle object at 0x00000194395CF470>\n",
      "4wheeler\n",
      "2000\n",
      "120.0\n",
      "<__main__.Vehicle object at 0x00000194395CF470>\n",
      "Invalid Vehicle Type\n"
     ]
    }
   ],
   "source": [
    "print(v1.getType())\n",
    "print(v1.getCost())\n",
    "v1.setPremium()\n",
    "print(v1.getPremium())\n",
    "print(v1)\n",
    "v1.setType('4wheeler')\n",
    "v1.setCost(2000)\n",
    "print(v1.getType())\n",
    "print(v1.getCost())\n",
    "v1.setPremium()\n",
    "print(v1.getPremium())\n",
    "print(v1)\n",
    "v1.setType('ghijkl')\n",
    "v1.setPremium()\n",
    "print(v1.getPremium())"
   ]
  },
  {
   "cell_type": "code",
   "execution_count": 4,
   "id": "public-cabinet",
   "metadata": {},
   "outputs": [],
   "source": [
    "class Student:\n",
    "    def __init(self):\n",
    "        self.__sid = None\n",
    "        self.__age = None\n",
    "        self.__mark = None\n",
    "    def validate_marks(self):\n",
    "        if self.__mark<=100 and self.__mark>=0:\n",
    "            return True\n",
    "        else:\n",
    "            return False\n",
    "    def validate_age(self):\n",
    "        if self.__age>20:\n",
    "            return True\n",
    "        else:\n",
    "            return False\n",
    "    def check_qualifications(self):\n",
    "        if self.validate_age() and self.validate_marks() and self.__mark>=65:\n",
    "            return True\n",
    "        else:\n",
    "            return False\n",
    "    def discount_applicable(self):\n",
    "        if self.check_qualifications() and self.__mark>85:\n",
    "            print(\"25% Discount Applicable\")\n",
    "        else:\n",
    "            print(\"No discount applicable\")\n",
    "    def get_sid(self):\n",
    "        return self.__sid\n",
    "    def get_age(self):\n",
    "        return self.__age\n",
    "    def get_mark(self):\n",
    "        return self.__mark\n",
    "    def set_sid(self,sid):\n",
    "        self.__sid=sid\n",
    "    def set_age(self,age):\n",
    "        self.__age=age\n",
    "    def set_mark(self,mark):\n",
    "        self.__mark=mark"
   ]
  },
  {
   "cell_type": "code",
   "execution_count": 5,
   "id": "foster-swift",
   "metadata": {},
   "outputs": [],
   "source": [
    "s1 = Student()\n",
    "s1.set_sid(186)\n",
    "s1.set_age(22) \n",
    "s1.set_mark(89)"
   ]
  },
  {
   "cell_type": "code",
   "execution_count": 6,
   "id": "practical-woman",
   "metadata": {},
   "outputs": [
    {
     "data": {
      "text/plain": [
       "True"
      ]
     },
     "execution_count": 6,
     "metadata": {},
     "output_type": "execute_result"
    }
   ],
   "source": [
    "s1.check_qualifications()"
   ]
  },
  {
   "cell_type": "code",
   "execution_count": 7,
   "id": "interracial-terror",
   "metadata": {},
   "outputs": [
    {
     "name": "stdout",
     "output_type": "stream",
     "text": [
      "25% Discount Applicable\n"
     ]
    }
   ],
   "source": [
    "s1.discount_applicable()"
   ]
  },
  {
   "cell_type": "code",
   "execution_count": 8,
   "id": "twelve-triumph",
   "metadata": {},
   "outputs": [
    {
     "name": "stdout",
     "output_type": "stream",
     "text": [
      "False\n",
      "No discount applicable\n"
     ]
    }
   ],
   "source": [
    "s1.set_mark(50) \n",
    "print(s1.check_qualifications())\n",
    "s1.discount_applicable()"
   ]
  },
  {
   "cell_type": "code",
   "execution_count": 112,
   "id": "binding-samuel",
   "metadata": {},
   "outputs": [],
   "source": [
    "import random\n",
    "class Customer:\n",
    "    def __init__(self,quantity,additional_topping):\n",
    "        self.quantity=quantity\n",
    "        self.additional_topping=additional_topping\n",
    "    def validate_quantity(self):\n",
    "        if self.quantity<=5 and self.quantity>=1:\n",
    "            return True\n",
    "        else:\n",
    "            return False\n",
    "    \n",
    "class Pizzaservice(Customer):\n",
    "    costd={'s':150,'m':200,'S':150,'M':200}\n",
    "    topd={'s':200,'m':50,'S':200,'M':50}\n",
    "    def __init__(self,typee,quantity,additional_topping):\n",
    "        self.typee=typee\n",
    "        self.service_id=typee+str(random.randint(101,10000000))\n",
    "        super().__init__(quantity,additional_topping)\n",
    "    def validate_pizza_type(self):\n",
    "        if self.typee in ['m','M','s','S']:\n",
    "            return True\n",
    "        else:\n",
    "            return False\n",
    "    def calculate_pizza_cost(self):\n",
    "        if self.validate_pizza_type():\n",
    "            if self.additional_topping:\n",
    "                cost=self.quantity*self.costd[self.typee]+self.quantity*self.topd[self.typee]\n",
    "                print(\"pizza cost =\",cost)\n",
    "                return cost\n",
    "            else: \n",
    "                cost=self.quantity*self.costd[self.typee]\n",
    "                print(\"pizza cost=\",cost)\n",
    "                return cost\n",
    "        else:\n",
    "            return -1\n",
    "    \n",
    "class Doordelivery(Pizzaservice):\n",
    "    def __init__(self,dist,typee,quantity,additional_topping):\n",
    "        self.dist=dist\n",
    "        super().__init__(typee,quantity,additional_topping)\n",
    "    def validate_distance_in_kms(self):\n",
    "        if self.dist<=10 and self.dist>=1:\n",
    "            return True\n",
    "        else:\n",
    "            return False\n",
    "    def calculate_pizza_cost(self):\n",
    "        if self.validate_distance_in_kms():\n",
    "            cost=super().calculate_pizza_cost()\n",
    "            if cost!=-1:\n",
    "                if self.dist<=5:\n",
    "                    cost=cost+self.dist*5\n",
    "                    print(\"Including Delivery Charge = \",cost)\n",
    "                else:\n",
    "                    cost=cost+25+(self.dist-5)*7\n",
    "                    print(\"Including Delivery Charge = \",cost)\n",
    "        else:\n",
    "            print(\"Sorry can't deliver to your address\")"
   ]
  },
  {
   "cell_type": "code",
   "execution_count": 123,
   "id": "intimate-kidney",
   "metadata": {},
   "outputs": [
    {
     "name": "stdout",
     "output_type": "stream",
     "text": [
      "Welcome To Pizza Store\n",
      "Press 1 for door delivery Press 0 for onservice\n",
      "0\n",
      "Enter medium or small size pizza\n",
      "m\n",
      "Enter quantity\n",
      "3\n",
      "toppin required or not\n",
      "True\n",
      "pizza cost = 750\n"
     ]
    }
   ],
   "source": [
    "# pi = Pizzaservice('M',3,True)\n",
    "# pi.calculate_pizza_cost()\n",
    "print(\"Welcome To Pizza Store\")\n",
    "print(\"Press 1 for door delivery Press 0 for onservice\")\n",
    "io = int(input())\n",
    "if io==0:\n",
    "    print(\"Enter medium or small size pizza\")\n",
    "    size = input()\n",
    "    print(\"Enter quantity\")\n",
    "    quan = int(input())\n",
    "    print(\"toppin required or not\")\n",
    "    topin = bool(input())\n",
    "    pi = Pizzaservice(size,quan,topin)\n",
    "    pi.calculate_pizza_cost()\n",
    "if io==1:\n",
    "    print(\"Enter distance in km\")\n",
    "    dist = int(input())\n",
    "    print(\"Enter medium or small size pizza\")\n",
    "    size = input()\n",
    "    print(\"Enter quantity\")\n",
    "    quan = int(input())\n",
    "    print(\"toppin required or not\")                                                                                                                                        \n",
    "    topin = bool(input())\n",
    "    pi = Pizzaservice(dist,size,quan,topin)\n",
    "    pi.calculate_pizza_cost()"
   ]
  },
  {
   "cell_type": "code",
   "execution_count": 12,
   "id": "toxic-polish",
   "metadata": {},
   "outputs": [
    {
     "data": {
      "text/plain": [
       "5"
      ]
     },
     "execution_count": 12,
     "metadata": {},
     "output_type": "execute_result"
    }
   ],
   "source": [
    "import random\n",
    "random.randint(0, 10)"
   ]
  },
  {
   "cell_type": "code",
   "execution_count": 14,
   "id": "adjusted-paris",
   "metadata": {},
   "outputs": [],
   "source": [
    "import random\n",
    "class Customer:\n",
    "    def __init__(self,quantity,additional_topping):\n",
    "        self.quantity=quantity\n",
    "        self.additional_topping=additional_topping\n",
    "    def validate_quantity(self):\n",
    "        if self.quantity<=5 and self.quantity>=1:\n",
    "            return True\n",
    "        else:\n",
    "            return False\n",
    "    \n",
    "class Pizzaservice(Customer):\n",
    "    costd={'s':150,'m':200,'S':150,'M':200}\n",
    "    topd={'s':200,'m':50,'S':200,'M':50}\n",
    "    def __init__(self,typee,quantity,additional_topping):\n",
    "        self.typee=typee\n",
    "        self.service_id=typee+str(random.randint(101,10000000))\n",
    "        super().__init__(quantity,additional_topping)\n",
    "    def validate_pizza_type(self):\n",
    "        if self.typee in ['m','M','s','S']:\n",
    "            return True\n",
    "        else:\n",
    "            return False\n",
    "    "
   ]
  },
  {
   "cell_type": "code",
   "execution_count": 115,
   "id": "bored-language",
   "metadata": {},
   "outputs": [
    {
     "name": "stdout",
     "output_type": "stream",
     "text": [
      "True\n"
     ]
    }
   ],
   "source": [
    "gh=input()"
   ]
  },
  {
   "cell_type": "code",
   "execution_count": 119,
   "id": "empirical-overall",
   "metadata": {},
   "outputs": [],
   "source": [
    "gh = bool(gh)"
   ]
  },
  {
   "cell_type": "code",
   "execution_count": 120,
   "id": "inclusive-appointment",
   "metadata": {},
   "outputs": [
    {
     "data": {
      "text/plain": [
       "bool"
      ]
     },
     "execution_count": 120,
     "metadata": {},
     "output_type": "execute_result"
    }
   ],
   "source": [
    "type(gh)"
   ]
  },
  {
   "cell_type": "code",
   "execution_count": null,
   "id": "elementary-slovakia",
   "metadata": {},
   "outputs": [],
   "source": []
  }
 ],
 "metadata": {
  "kernelspec": {
   "display_name": "Python 3",
   "language": "python",
   "name": "python3"
  },
  "language_info": {
   "codemirror_mode": {
    "name": "ipython",
    "version": 3
   },
   "file_extension": ".py",
   "mimetype": "text/x-python",
   "name": "python",
   "nbconvert_exporter": "python",
   "pygments_lexer": "ipython3",
   "version": "3.7.1"
  }
 },
 "nbformat": 4,
 "nbformat_minor": 5
}
