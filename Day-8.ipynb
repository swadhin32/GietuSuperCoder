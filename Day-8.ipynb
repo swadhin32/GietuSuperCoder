{
 "cells": [
  {
   "cell_type": "code",
   "execution_count": 1,
   "id": "demanding-concentrate",
   "metadata": {},
   "outputs": [
    {
     "name": "stdout",
     "output_type": "stream",
     "text": [
      "Given linked list\n",
      "85 15 4 20 \n",
      "Reversed linked list\n",
      "20 4 15 85 "
     ]
    }
   ],
   "source": [
    "class Node:\n",
    "    def __init__(self, data):\n",
    "        self.data = data\n",
    "        self.next = None\n",
    "class LinkedList:\n",
    "    def __init__(self):\n",
    "        self.head = None\n",
    "    def reverse(self):\n",
    "        prev = None\n",
    "        current = self.head\n",
    "        while(current is not None):\n",
    "            next = current.next\n",
    "            current.next = prev\n",
    "            prev = current\n",
    "            current = next\n",
    "        self.head = prev\n",
    "    def push(self, new_data):\n",
    "        new_node = Node(new_data)\n",
    "        new_node.next = self.head\n",
    "        self.head = new_node\n",
    "    def printList(self):\n",
    "        temp = self.head\n",
    "        while(temp):\n",
    "            print(temp.data, end=\" \")\n",
    "            temp = temp.next\n",
    "llist = LinkedList()\n",
    "llist.push(20)\n",
    "llist.push(4)\n",
    "llist.push(15)\n",
    "llist.push(85)\n",
    "print(\"Given linked list\")\n",
    "llist.printList()\n",
    "llist.reverse()\n",
    "print(\"\\nReversed linked list\")\n",
    "llist.printList()"
   ]
  },
  {
   "cell_type": "markdown",
   "id": "welsh-utilization",
   "metadata": {},
   "source": [
    "# Doubly Linked List"
   ]
  },
  {
   "cell_type": "code",
   "execution_count": 14,
   "id": "constitutional-minute",
   "metadata": {},
   "outputs": [
    {
     "name": "stdout",
     "output_type": "stream",
     "text": [
      "True\n",
      "5\n",
      "25\n",
      "15\n",
      "5\n",
      "no of nodes 3\n"
     ]
    }
   ],
   "source": [
    "class Node:\n",
    "    def __init__(self, value):\n",
    "        self.previous = None\n",
    "        self.data = value\n",
    "        self.next = None\n",
    "class DoublyLinkedList:\n",
    "    def __init__(self):\n",
    "        self.head = None\n",
    "    def isEmpty(self):\n",
    "        if self.head is None:\n",
    "            return True\n",
    "        return False\n",
    "    def length(self):\n",
    "        temp = self.head\n",
    "        count = 0\n",
    "        while temp is not None:\n",
    "            temp = temp.next\n",
    "            count += 1\n",
    "        return count\n",
    "    def insertAtBeginning(self, value):\n",
    "        new_node = Node(value)\n",
    "        if self.isEmpty():\n",
    "            self.head = new_node\n",
    "        else:\n",
    "            new_node.next = self.head\n",
    "            self.head.previous = new_node\n",
    "            self.head = new_node\n",
    "    def insertAtEnd(self, value):\n",
    "        new_node = Node(value) \n",
    "        if self.isEmpty():\n",
    "            self.insertAtBeginning(value)\n",
    "        else:\n",
    "            temp = self.head\n",
    "            while temp.next is not None:\n",
    "                temp = temp.next\n",
    "            temp.next = new_node\n",
    "            new_node.previous = temp\n",
    "    def printLinkedList(self):\n",
    "        temp = self.head\n",
    "        while temp is not None:\n",
    "            print(temp.data, sep=\",\")\n",
    "            temp = temp.next\n",
    "    def insertPosition(self, value, position):\n",
    "        temp = self.head\n",
    "        count = 0\n",
    "        while temp is not None:\n",
    "            if count == position - 1:\n",
    "                break\n",
    "            count += 1\n",
    "            temp = temp.next\n",
    "        if position == 1:\n",
    "            self.insertAtBeginning(value)\n",
    "        elif temp is None:\n",
    "            print(\"There are less than {}-1 elements in the linkedlist. cannot insert at {} position.\".format(position,position))\n",
    "        elif temp.next is None:\n",
    "            self.insertAtEnd(value)\n",
    "        else:\n",
    "            new_node = Node(value)\n",
    "            new_node.next = Node(value)\n",
    "    def deleteFromFirst(self):\n",
    "        if self.isEmpty():\n",
    "            print(\"Linked List is empty. Cannot delete elements.\")\n",
    "        self.head = self.head.next\n",
    "    def deleteFromLast(self):\n",
    "        if self.isEmpty():\n",
    "            print(\"Linked List is empty. Cannot delete elements.\")\n",
    "        elif self.head.next is None:\n",
    "            self.head = None\n",
    "        else:\n",
    "            temp = self.head\n",
    "            while temp.next is not None:\n",
    "                temp = temp.next\n",
    "            temp.previous.next = None\n",
    "            temp.previous = None\n",
    "    def deleteFromPosition(self,pos):\n",
    "        if self.isEmpty():\n",
    "            print(\"Liniked List is empty. Cannot delete elements.\")\n",
    "        elif pos == 1:\n",
    "            self.deleteFromBeginning()\n",
    "        else:\n",
    "            temp = self.head\n",
    "            count = 1\n",
    "            while temp is not None:\n",
    "                if count == pos:\n",
    "                    break\n",
    "                temp = temp.next\n",
    "                count = count+1\n",
    "            if temp is None:\n",
    "                print(\"There are less than elements in linked list\")\n",
    "            elif temp.next is None:\n",
    "                self.deleteFromLast()\n",
    "            temp.previous.next = temp.next\n",
    "            temp.next.previous = temp.previous\n",
    "                \n",
    "                \n",
    "                \n",
    "x = DoublyLinkedList()\n",
    "print(x.isEmpty())\n",
    "x.insertAtBeginning(5)\n",
    "x.printLinkedList()\n",
    "x.insertAtBeginning(15)\n",
    "x.insertAtBeginning(25)\n",
    "x.printLinkedList()\n",
    "print(\"no of nodes\",x.length())\n"
   ]
  },
  {
   "cell_type": "code",
   "execution_count": 6,
   "id": "composed-bennett",
   "metadata": {},
   "outputs": [
    {
     "name": "stdout",
     "output_type": "stream",
     "text": [
      "56\n",
      "25\n",
      "15\n",
      "5\n"
     ]
    }
   ],
   "source": [
    "x.insertPosition(56,1)\n",
    "x.printLinkedList()"
   ]
  },
  {
   "cell_type": "code",
   "execution_count": 12,
   "id": "religious-senate",
   "metadata": {},
   "outputs": [
    {
     "name": "stdout",
     "output_type": "stream",
     "text": [
      "25\n",
      "15\n"
     ]
    }
   ],
   "source": [
    "x.deleteFromLast()\n",
    "x.printLinkedList()"
   ]
  },
  {
   "cell_type": "code",
   "execution_count": 16,
   "id": "primary-beatles",
   "metadata": {},
   "outputs": [
    {
     "name": "stdout",
     "output_type": "stream",
     "text": [
      "Postfix evaluation: -4\n"
     ]
    }
   ],
   "source": [
    "#Postfix Evaluation\n",
    "class Evaluate:\n",
    "    def __init__(self, capacity):\n",
    "        self.top = -1\n",
    "        self.capacity = capacity\n",
    "        self.array = []\n",
    "    def isEmpty(self):\n",
    "        return True if self.top==-1 else False\n",
    "    def peek(self):\n",
    "        return self.array[-1]\n",
    "    def pop(self):\n",
    "        if not self.isEmpty():\n",
    "            self.top -= 1\n",
    "            return self.array.pop()\n",
    "        else:\n",
    "            return \"$\"\n",
    "    def push(self, op):\n",
    "        self.top += 1 #2\n",
    "        self.array.append(op)#5 9\n",
    "    def evaluatePostfix(self, exp):\n",
    "        for i in exp:\n",
    "            if i.isdigit():\n",
    "                self.push(i)\n",
    "            else:\n",
    "                val1 = self.pop()\n",
    "                val2 = self.pop()\n",
    "                self.push(str(eval(val2 + i + val1)))\n",
    "        return int(self.pop())\n",
    "\n",
    "exp = \"231*+9-\"\n",
    "obj = Evaluate(len(exp))\n",
    "print(\"Postfix evaluation: %d\" %(obj.evaluatePostfix(exp)))"
   ]
  },
  {
   "cell_type": "markdown",
   "id": "popular-hacker",
   "metadata": {},
   "source": [
    "# Homework"
   ]
  },
  {
   "cell_type": "code",
   "execution_count": 35,
   "id": "unable-chinese",
   "metadata": {},
   "outputs": [
    {
     "name": "stdout",
     "output_type": "stream",
     "text": [
      "10\n",
      "10\n",
      "20\n"
     ]
    }
   ],
   "source": [
    "class Node:\n",
    "    def __init__(self, dataval=None):\n",
    "        self.dataval = dataval\n",
    "        self.nextval = None\n",
    "\n",
    "class SLinkedList:\n",
    "    def __init__(self):\n",
    "        self.headval = None\n",
    "\n",
    "    def listprint(self):\n",
    "        printval = self.headval\n",
    "        while printval is not None:\n",
    "            print (printval.dataval)\n",
    "            printval = printval.nextval\n",
    "    def AtBegining(self,newdata):\n",
    "        NewNode = Node(newdata)\n",
    "        NewNode.nextval = self.headval\n",
    "        self.headval = NewNode\n",
    "    def AtEnd(self, newdata):\n",
    "        NewNode = Node(newdata)\n",
    "        if self.headval is None:\n",
    "            self.headval = NewNode\n",
    "            return\n",
    "        laste = self.headval\n",
    "        while(laste.nextval):\n",
    "            laste = laste.nextval\n",
    "        laste.nextval = NewNode\n",
    "    def Inbetween(self,middle_node,newdata):\n",
    "        if middle_node is None:\n",
    "            print(\"The mentioned node is absent\")\n",
    "            return\n",
    "        NewNode = Node(newdata)\n",
    "        NewNode.nextval = middle_node.nextval\n",
    "        middle_node.nextval = NewNode\n",
    "    def delete_at_start(self):\n",
    "        self.headval = self.headval.nextval\n",
    "    def delete_at_end(self):\n",
    "        printval = self.headval\n",
    "        while True:\n",
    "            if printval.nextval.nextval==None:\n",
    "                printval.nextval=None\n",
    "                break\n",
    "            printval = printval.nextval\n",
    "    def delete_at_pos(self,pos):\n",
    "        temp = self.headval\n",
    "        for i in range(pos):\n",
    "            if i==pos-2:\n",
    "                temp.nextval=temp.nextval.nextval\n",
    "                break\n",
    "            temp=temp.nextval\n",
    "    def reverse(self):\n",
    "        l1 = []\n",
    "        printval = self.headval\n",
    "        while printval is not None:\n",
    "            l1.append(printval.dataval)\n",
    "            printval = printval.nextval\n",
    "        list = SLinkedList()\n",
    "        list.headval = Node(l1[-1])\n",
    "        temp = list.headval\n",
    "        for i in range(2,len(l1)+1):\n",
    "            Newnode = Node(l1[-i])\n",
    "            temp.nextval = Newnode\n",
    "            temp=Newnode\n",
    "        return list\n",
    "    def search_item(self, data):\n",
    "        pass\n",
    "    def remove_duplicate(self):\n",
    "        temp = self.headval\n",
    "        list1 = []\n",
    "        while temp:\n",
    "            while temp.nextval is not None and temp.dataval == temp.nextval.dataval:\n",
    "                temp.nextval=temp.nextval.nextval\n",
    "            temp = temp.nextval\n",
    "\n",
    "list = SLinkedList()\n",
    "list.headval = Node(\"10\")\n",
    "e2 = Node(\"10\")\n",
    "\n",
    "e3 = Node(\"20\")\n",
    "\n",
    "# Link first Node to second node\n",
    "list.headval.nextval = e2\n",
    "\n",
    "# Link second Node to third node\n",
    "e2.nextval = e3\n",
    "\n",
    "list.listprint()"
   ]
  },
  {
   "cell_type": "code",
   "execution_count": 38,
   "id": "humanitarian-fusion",
   "metadata": {},
   "outputs": [
    {
     "name": "stdout",
     "output_type": "stream",
     "text": [
      "10\n",
      "20\n"
     ]
    }
   ],
   "source": [
    "list.remove_duplicate()\n",
    "list.listprint()"
   ]
  },
  {
   "cell_type": "code",
   "execution_count": 56,
   "id": "light-thriller",
   "metadata": {},
   "outputs": [],
   "source": [
    "class Car:\n",
    "    def __init__(self,list1):\n",
    "        self.car_list = list1\n",
    "    def get_car_list(self):\n",
    "        return self.car_list\n",
    "    def find_cars_by_year(self,year):\n",
    "        list2 = []\n",
    "        for i in self.car_list:\n",
    "            if i[-2:]==year[-2:]:\n",
    "                list2.append(i)\n",
    "        print(list2)\n",
    "    def remove_cars_from_karnataka(self):\n",
    "        for i in self.car_list:\n",
    "            if i[:2]=='KA':\n",
    "                self.car_list.remove(i)\n",
    "    def add_cars(self,car):\n",
    "        self.car_list.append(car)\n",
    "        "
   ]
  },
  {
   "cell_type": "code",
   "execution_count": 83,
   "id": "backed-light",
   "metadata": {},
   "outputs": [
    {
     "name": "stdout",
     "output_type": "stream",
     "text": [
      "max size = 5\n",
      "5\n",
      "66\n",
      "5\n",
      "8\n",
      "7\n",
      "After rev\n"
     ]
    }
   ],
   "source": [
    "class Stack:\n",
    "    def __init__(self, max_size):\n",
    "        self.__max_size = max_size\n",
    "        self.__elements = [None]*self.__max_size\n",
    "        self.__top = -1\n",
    "        \n",
    "    def is_full(self):\n",
    "        if(self.__top==self.__max_size-1):\n",
    "            return True\n",
    "        return False\n",
    "    def is_empty(self):\n",
    "        if(self.__top==-1):\n",
    "            return True\n",
    "        return False\n",
    "    def push(self, data):\n",
    "        if(self.is_full()):\n",
    "            print(\"Stack is full can't insert\")\n",
    "        else:\n",
    "            self.__top=self.__top+1\n",
    "            self.__elements[self.__top]=data\n",
    "    def pop(self):\n",
    "        if(self.is_empty()):\n",
    "            print(\"Stack is empty\")\n",
    "        else:\n",
    "            self.__top=self.__top-1\n",
    "    def display(self):\n",
    "        if(self.is_empty()):\n",
    "            print(\"Stack is empty\")\n",
    "        else:\n",
    "            index = self.__top\n",
    "            while(index>=0):\n",
    "                print(self.__elements[index])\n",
    "                index-=1\n",
    "    def get_max_size(self):\n",
    "        return self.__max_size\n",
    "    def small_botton(self,s2):\n",
    "        list2=[]\n",
    "        if(self.is_empty()):\n",
    "            print(\"Stack is empty\")\n",
    "        else:\n",
    "            index = self.__top\n",
    "            while(index>=0):\n",
    "                list2.append(self.__elements[index])\n",
    "                index-=1\n",
    "        for i in range(list2.count(min(list2))):\n",
    "            s2.push(min(list2))\n",
    "        for i in range(len(list2)-1,-1,-1):\n",
    "            if list2[i]!=min(list2):\n",
    "                s2.push(list2[i])\n",
    "            \n",
    "\n",
    "s1 = Stack(5)\n",
    "s2 = Stack(5)\n",
    "print(\"max size =\",s1.get_max_size())\n",
    "s1.push(7)\n",
    "s1.push(8)\n",
    "s1.push(5)\n",
    "s1.push(66)\n",
    "s1.push(5)\n",
    "s1.display()\n",
    "print(\"After rev\")\n",
    "s1.small_botton(s2)"
   ]
  },
  {
   "cell_type": "code",
   "execution_count": 84,
   "id": "environmental-moses",
   "metadata": {},
   "outputs": [
    {
     "name": "stdout",
     "output_type": "stream",
     "text": [
      "66\n",
      "8\n",
      "7\n",
      "5\n",
      "5\n"
     ]
    }
   ],
   "source": [
    "s2.display()"
   ]
  },
  {
   "cell_type": "code",
   "execution_count": 76,
   "id": "finished-consciousness",
   "metadata": {},
   "outputs": [
    {
     "data": {
      "text/plain": [
       "[44, 10, 4, 5]"
      ]
     },
     "execution_count": 76,
     "metadata": {},
     "output_type": "execute_result"
    }
   ],
   "source": [
    "list1 = [44,10,10,4,5]\n",
    "list1.count(10)"
   ]
  },
  {
   "cell_type": "code",
   "execution_count": 74,
   "id": "innocent-township",
   "metadata": {},
   "outputs": [
    {
     "name": "stdout",
     "output_type": "stream",
     "text": [
      "5\n",
      "4\n",
      "10\n",
      "10\n",
      "44\n"
     ]
    }
   ],
   "source": [
    "for i in range(len(list1)-1,-1,-1):\n",
    "    print(list1[i])"
   ]
  },
  {
   "cell_type": "code",
   "execution_count": null,
   "id": "higher-furniture",
   "metadata": {},
   "outputs": [],
   "source": []
  }
 ],
 "metadata": {
  "kernelspec": {
   "display_name": "Python 3",
   "language": "python",
   "name": "python3"
  },
  "language_info": {
   "codemirror_mode": {
    "name": "ipython",
    "version": 3
   },
   "file_extension": ".py",
   "mimetype": "text/x-python",
   "name": "python",
   "nbconvert_exporter": "python",
   "pygments_lexer": "ipython3",
   "version": "3.7.1"
  }
 },
 "nbformat": 4,
 "nbformat_minor": 5
}
