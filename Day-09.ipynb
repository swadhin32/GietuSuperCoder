{
 "cells": [
  {
   "cell_type": "code",
   "execution_count": 1,
   "id": "durable-western",
   "metadata": {},
   "outputs": [
    {
     "name": "stdout",
     "output_type": "stream",
     "text": [
      "Element is present at index1\n"
     ]
    }
   ],
   "source": [
    "# Binary Search in Python\n",
    "def binarySearch(array, x, low, high):\n",
    "    # Repeat until the pointers low and high meet each other\n",
    "    while low <= high:\n",
    "        mid = low+(high-low)//2\n",
    "        if array[mid] == x:\n",
    "            return mid\n",
    "        elif array[mid]<x:\n",
    "            low = mid+1\n",
    "        else:\n",
    "            high = mid-1\n",
    "    return -1\n",
    "array = [3, 4, 5, 6, 7, 8, 9]\n",
    "x=4\n",
    "result = binarySearch(array, x, 0, len(array)-1)\n",
    "if result != -1:\n",
    "    print(\"Element is present at index\"+str(result))\n",
    "else:\n",
    "    print(\"Not Found\")"
   ]
  },
  {
   "cell_type": "markdown",
   "id": "prescription-viewer",
   "metadata": {},
   "source": [
    "# TREE"
   ]
  },
  {
   "cell_type": "code",
   "execution_count": 5,
   "id": "competitive-cigarette",
   "metadata": {},
   "outputs": [
    {
     "name": "stdout",
     "output_type": "stream",
     "text": [
      "Inorder Traversal\n",
      "4->2->5->1->3->\n",
      "Preorder Traversal\n",
      "1->2->4->5->3->\n",
      "Postorder Traversal\n",
      "4->5->2->3->1->"
     ]
    }
   ],
   "source": [
    "class Node:\n",
    "    def __init__(self, item):\n",
    "        self.left = None\n",
    "        self.right = None\n",
    "        self.val = item\n",
    "def inorder(root):\n",
    "    if root:\n",
    "        inorder(root.left)\n",
    "        print(str(root.val) + \"->\", end='')\n",
    "        inorder(root.right)\n",
    "def postorder(root):\n",
    "    if root:\n",
    "        postorder(root.left)\n",
    "        postorder(root.right)\n",
    "        print(str(root.val)+ \"->\", end='')\n",
    "def preorder(root):\n",
    "    if root:\n",
    "        print(str(root.val) + \"->\", end='')\n",
    "        preorder(root.left)\n",
    "        preorder(root.right)\n",
    "root = Node(1)\n",
    "root.left = Node(2)\n",
    "root.right = Node(3)\n",
    "root.left.left = Node(4)\n",
    "root.left.right = Node(5)\n",
    "print(\"Inorder Traversal\")\n",
    "inorder(root)\n",
    "print(\"\\nPreorder Traversal\")\n",
    "preorder(root)\n",
    "print(\"\\nPostorder Traversal\")\n",
    "postorder(root)"
   ]
  },
  {
   "cell_type": "markdown",
   "id": "specified-crossing",
   "metadata": {},
   "source": [
    "# Binary Search Tree"
   ]
  },
  {
   "cell_type": "code",
   "execution_count": 10,
   "id": "wired-secretariat",
   "metadata": {},
   "outputs": [
    {
     "name": "stdout",
     "output_type": "stream",
     "text": [
      "Inorder traversal:  1-> 3-> 4-> 6-> 7-> 8-> 10-> 14-> "
     ]
    }
   ],
   "source": [
    "class Node:\n",
    "    def __init__(self, key):\n",
    "        self.key = key\n",
    "        self.left = None\n",
    "        self.right = None\n",
    "def inorder(root):\n",
    "        if root is not None:\n",
    "            inorder(root.left)\n",
    "            print(str(root.key) + \"->\", end=' ')\n",
    "            inorder(root.right)\n",
    "def insert(node, key):\n",
    "    if node is None:\n",
    "        return Node(key)\n",
    "    if key<node.key:\n",
    "        node.left = insert(node.left, key)\n",
    "    else:\n",
    "        node.right = insert(node.right, key)\n",
    "    return node\n",
    "root = None\n",
    "root = insert(root, 8)\n",
    "root = insert(root, 3)\n",
    "root = insert(root, 1)\n",
    "root = insert(root, 6)\n",
    "root = insert(root, 7)\n",
    "root = insert(root, 10)\n",
    "root = insert(root, 14)\n",
    "root = insert(root, 4)\n",
    "print(\"Inorder traversal: \", end=' ')\n",
    "inorder(root)"
   ]
  },
  {
   "cell_type": "code",
   "execution_count": 40,
   "id": "spoken-future",
   "metadata": {},
   "outputs": [],
   "source": [
    "class Node:\n",
    "    def __init__(self, dataval=None):\n",
    "        self.dataval = dataval\n",
    "        self.nextval = None\n",
    "\n",
    "class Compartment:\n",
    "    def __init__(self):\n",
    "        self.headval = None\n",
    "\n",
    "    def listprint(self):\n",
    "        printval = self.headval\n",
    "        while printval is not None:\n",
    "            print (printval.dataval)\n",
    "            printval = printval.nextval\n",
    "    def AtEnd(self, newdata):\n",
    "        NewNode = Node(newdata)\n",
    "        if self.headval is None:\n",
    "            self.headval = NewNode\n",
    "            return\n",
    "        laste = self.headval\n",
    "        while(laste.nextval):\n",
    "            laste = laste.nextval\n",
    "        laste.nextval = NewNode\n",
    "    def check_vacant(self):\n",
    "        count=0\n",
    "        printval = self.headval\n",
    "        while printval is not None:\n",
    "            if (printval.dataval[2]-printval.dataval[1])/printval.dataval[2]>=0.5:\n",
    "                count=count+1\n",
    "            printval = printval.nextval\n",
    "        return count\n",
    "    def count_compat(self):\n",
    "        count=0\n",
    "        printval = self.headval\n",
    "        while printval is not None:\n",
    "            count=count+1\n",
    "            printval = printval.nextval\n",
    "        return count\n",
    "\n",
    "\n",
    "class Train:\n",
    "    def __init__(self,name,comp_list):\n",
    "        self.__train_name = name\n",
    "        self.__compartment_list = comp_list\n",
    "    def get_train_name(self):\n",
    "        return self.__train_name\n",
    "    def get_compartment_list(self):\n",
    "        return self.__compartment_list\n",
    "    def count_compartments(self):\n",
    "        return self.__compartment_list.count_compat()\n",
    "    def check_vacancy(self):\n",
    "        return self.__compartment_list.check_vacant()\n",
    "    "
   ]
  },
  {
   "cell_type": "code",
   "execution_count": 41,
   "id": "pressed-original",
   "metadata": {},
   "outputs": [],
   "source": [
    "complist = Compartment()\n",
    "complist.headval = Node([\"SL\",250,400])\n",
    "complist.AtEnd([\"2AC\",125,280])\n",
    "complist.AtEnd([\"3AC\",120,300])\n",
    "complist.AtEnd([\"FC\",160,300])\n",
    "complist.AtEnd([\"1AC\",100,210])"
   ]
  },
  {
   "cell_type": "code",
   "execution_count": 42,
   "id": "valued-supplier",
   "metadata": {},
   "outputs": [],
   "source": [
    "tn1 = Train(\"RGDGNPR\",complist)"
   ]
  },
  {
   "cell_type": "code",
   "execution_count": 45,
   "id": "impossible-satisfaction",
   "metadata": {},
   "outputs": [
    {
     "name": "stdout",
     "output_type": "stream",
     "text": [
      "5\n",
      "3\n"
     ]
    }
   ],
   "source": [
    "print(tn1.count_compartments())\n",
    "print(tn1.check_vacancy())"
   ]
  },
  {
   "cell_type": "code",
   "execution_count": 59,
   "id": "cognitive-logging",
   "metadata": {},
   "outputs": [
    {
     "name": "stdout",
     "output_type": "stream",
     "text": [
      "the sun rises in the east\n",
      "{'the', 'rises'}\n"
     ]
    }
   ],
   "source": [
    "text = \"\".join(input())\n",
    "vocab = [\"sun\", \"in\", \"east\", \"doctor\", \"day\"]\n",
    "out = []\n",
    "for i in text.split(' '):\n",
    "    if i not in vocab:\n",
    "        out.append(i)\n",
    "print(set(out))"
   ]
  },
  {
   "cell_type": "code",
   "execution_count": null,
   "id": "noble-residence",
   "metadata": {},
   "outputs": [],
   "source": []
  }
 ],
 "metadata": {
  "kernelspec": {
   "display_name": "Python 3",
   "language": "python",
   "name": "python3"
  },
  "language_info": {
   "codemirror_mode": {
    "name": "ipython",
    "version": 3
   },
   "file_extension": ".py",
   "mimetype": "text/x-python",
   "name": "python",
   "nbconvert_exporter": "python",
   "pygments_lexer": "ipython3",
   "version": "3.7.1"
  }
 },
 "nbformat": 4,
 "nbformat_minor": 5
}
