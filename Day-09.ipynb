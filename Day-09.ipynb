{
 "cells": [
  {
   "cell_type": "code",
   "execution_count": 1,
   "id": "generous-auckland",
   "metadata": {},
   "outputs": [
    {
     "name": "stdout",
     "output_type": "stream",
     "text": [
      "Element is present at index1\n"
     ]
    }
   ],
   "source": [
    "# Binary Search in Python\n",
    "def binarySearch(array, x, low, high):\n",
    "    # Repeat until the pointers low and high meet each other\n",
    "    while low <= high:\n",
    "        mid = low+(high-low)//2\n",
    "        if array[mid] == x:\n",
    "            return mid\n",
    "        elif array[mid]<x:\n",
    "            low = mid+1\n",
    "        else:\n",
    "            high = mid-1\n",
    "    return -1\n",
    "array = [3, 4, 5, 6, 7, 8, 9]\n",
    "x=4\n",
    "result = binarySearch(array, x, 0, len(array)-1)\n",
    "if result != -1:\n",
    "    print(\"Element is present at index\"+str(result))\n",
    "else:\n",
    "    print(\"Not Found\")"
   ]
  },
  {
   "cell_type": "markdown",
   "id": "expensive-intent",
   "metadata": {},
   "source": [
    "# TREE"
   ]
  },
  {
   "cell_type": "code",
   "execution_count": 5,
   "id": "heated-ethernet",
   "metadata": {},
   "outputs": [
    {
     "name": "stdout",
     "output_type": "stream",
     "text": [
      "Inorder Traversal\n",
      "4->2->5->1->3->\n",
      "Preorder Traversal\n",
      "1->2->4->5->3->\n",
      "Postorder Traversal\n",
      "4->5->2->3->1->"
     ]
    }
   ],
   "source": [
    "class Node:\n",
    "    def __init__(self, item):\n",
    "        self.left = None\n",
    "        self.right = None\n",
    "        self.val = item\n",
    "def inorder(root):\n",
    "    if root:\n",
    "        inorder(root.left)\n",
    "        print(str(root.val) + \"->\", end='')\n",
    "        inorder(root.right)\n",
    "def postorder(root):\n",
    "    if root:\n",
    "        postorder(root.left)\n",
    "        postorder(root.right)\n",
    "        print(str(root.val)+ \"->\", end='')\n",
    "def preorder(root):\n",
    "    if root:\n",
    "        print(str(root.val) + \"->\", end='')\n",
    "        preorder(root.left)\n",
    "        preorder(root.right)\n",
    "root = Node(1)\n",
    "root.left = Node(2)\n",
    "root.right = Node(3)\n",
    "root.left.left = Node(4)\n",
    "root.left.right = Node(5)\n",
    "print(\"Inorder Traversal\")\n",
    "inorder(root)\n",
    "print(\"\\nPreorder Traversal\")\n",
    "preorder(root)\n",
    "print(\"\\nPostorder Traversal\")\n",
    "postorder(root)"
   ]
  },
  {
   "cell_type": "markdown",
   "id": "professional-glory",
   "metadata": {},
   "source": [
    "# Binary Search Tree"
   ]
  },
  {
   "cell_type": "code",
   "execution_count": 10,
   "id": "frequent-fiber",
   "metadata": {},
   "outputs": [
    {
     "name": "stdout",
     "output_type": "stream",
     "text": [
      "Inorder traversal:  1-> 3-> 4-> 6-> 7-> 8-> 10-> 14-> "
     ]
    }
   ],
   "source": [
    "class Node:\n",
    "    def __init__(self, key):\n",
    "        self.key = key\n",
    "        self.left = None\n",
    "        self.right = None\n",
    "def inorder(root):\n",
    "        if root is not None:\n",
    "            inorder(root.left)\n",
    "            print(str(root.key) + \"->\", end=' ')\n",
    "            inorder(root.right)\n",
    "def insert(node, key):\n",
    "    if node is None:\n",
    "        return Node(key)\n",
    "    if key<node.key:\n",
    "        node.left = insert(node.left, key)\n",
    "    else:\n",
    "        node.right = insert(node.right, key)\n",
    "    return node\n",
    "root = None\n",
    "root = insert(root, 8)\n",
    "root = insert(root, 3)\n",
    "root = insert(root, 1)\n",
    "root = insert(root, 6)\n",
    "root = insert(root, 7)\n",
    "root = insert(root, 10)\n",
    "root = insert(root, 14)\n",
    "root = insert(root, 4)\n",
    "print(\"Inorder traversal: \", end=' ')\n",
    "inorder(root)"
   ]
  },
  {
   "cell_type": "code",
   "execution_count": 40,
   "id": "changed-growth",
   "metadata": {},
   "outputs": [],
   "source": [
    "class Node:\n",
    "    def __init__(self, dataval=None):\n",
    "        self.dataval = dataval\n",
    "        self.nextval = None\n",
    "\n",
    "class Compartment:\n",
    "    def __init__(self):\n",
    "        self.headval = None\n",
    "\n",
    "    def listprint(self):\n",
    "        printval = self.headval\n",
    "        while printval is not None:\n",
    "            print (printval.dataval)\n",
    "            printval = printval.nextval\n",
    "    def AtEnd(self, newdata):\n",
    "        NewNode = Node(newdata)\n",
    "        if self.headval is None:\n",
    "            self.headval = NewNode\n",
    "            return\n",
    "        laste = self.headval\n",
    "        while(laste.nextval):\n",
    "            laste = laste.nextval\n",
    "        laste.nextval = NewNode\n",
    "    def check_vacant(self):\n",
    "        count=0\n",
    "        printval = self.headval\n",
    "        while printval is not None:\n",
    "            if (printval.dataval[2]-printval.dataval[1])/printval.dataval[2]>=0.5:\n",
    "                count=count+1\n",
    "            printval = printval.nextval\n",
    "        return count\n",
    "    def count_compat(self):\n",
    "        count=0\n",
    "        printval = self.headval\n",
    "        while printval is not None:\n",
    "            count=count+1\n",
    "            printval = printval.nextval\n",
    "        return count\n",
    "\n",
    "\n",
    "class Train:\n",
    "    def __init__(self,name,comp_list):\n",
    "        self.__train_name = name\n",
    "        self.__compartment_list = comp_list\n",
    "    def get_train_name(self):\n",
    "        return self.__train_name\n",
    "    def get_compartment_list(self):\n",
    "        return self.__compartment_list\n",
    "    def count_compartments(self):\n",
    "        return self.__compartment_list.count_compat()\n",
    "    def check_vacancy(self):\n",
    "        return self.__compartment_list.check_vacant()\n",
    "    "
   ]
  },
  {
   "cell_type": "code",
   "execution_count": 41,
   "id": "loving-senior",
   "metadata": {},
   "outputs": [],
   "source": [
    "complist = Compartment()\n",
    "complist.headval = Node([\"SL\",250,400])\n",
    "complist.AtEnd([\"2AC\",125,280])\n",
    "complist.AtEnd([\"3AC\",120,300])\n",
    "complist.AtEnd([\"FC\",160,300])\n",
    "complist.AtEnd([\"1AC\",100,210])"
   ]
  },
  {
   "cell_type": "code",
   "execution_count": 42,
   "id": "administrative-england",
   "metadata": {},
   "outputs": [],
   "source": [
    "tn1 = Train(\"RGDGNPR\",complist)"
   ]
  },
  {
   "cell_type": "code",
   "execution_count": 45,
   "id": "genetic-marsh",
   "metadata": {},
   "outputs": [
    {
     "name": "stdout",
     "output_type": "stream",
     "text": [
      "5\n",
      "3\n"
     ]
    }
   ],
   "source": [
    "print(tn1.count_compartments())\n",
    "print(tn1.check_vacancy())"
   ]
  },
  {
   "cell_type": "code",
   "execution_count": 59,
   "id": "acknowledged-twenty",
   "metadata": {},
   "outputs": [
    {
     "name": "stdout",
     "output_type": "stream",
     "text": [
      "the sun rises in the east\n",
      "{'the', 'rises'}\n"
     ]
    }
   ],
   "source": [
    "text = \"\".join(input())\n",
    "vocab = [\"sun\", \"in\", \"east\", \"doctor\", \"day\"]\n",
    "out = []\n",
    "for i in text.split(' '):\n",
    "    if i not in vocab:\n",
    "        out.append(i)\n",
    "print(set(out))"
   ]
  },
  {
   "cell_type": "code",
   "execution_count": 165,
   "id": "configured-geometry",
   "metadata": {},
   "outputs": [],
   "source": [
    " class Library:\n",
    "        def __init__(self,item):\n",
    "            self.item_list = item\n",
    "        def getItemList(self):\n",
    "            return self.item_list\n",
    "        def sort_item_list_by_author(self):\n",
    "            def sortauthor(item):\n",
    "                return item.get_author_name()\n",
    "            self.item_list.sort(key=sortauthor)\n",
    "        def add_new_items(new_item_list):\n",
    "            self.item_list.append(new_item_list)\n",
    "        def sort_items_by_published_year(self):\n",
    "            def sortyear(item):\n",
    "                return item.get_published_year()\n",
    "            self.item_list.sort(key=sortyear)\n",
    "        \n",
    "class Item:\n",
    "    def __init__(self,item_name,author_name,year):\n",
    "        self.__item_name=item_name\n",
    "        self.__author_name = author_name\n",
    "        self.__year = year\n",
    "    def __str__(self):\n",
    "        return f'{self.__item_name} {self.__author_name} {self.__year}'\n",
    "    def get_item_name(self):\n",
    "        return self.__item_name \n",
    "    def get_author_name(self):\n",
    "        return self.__author_name    \n",
    "    def get_published_year(self):\n",
    "        return self.__year"
   ]
  },
  {
   "cell_type": "code",
   "execution_count": 171,
   "id": "generous-criterion",
   "metadata": {},
   "outputs": [
    {
     "name": "stdout",
     "output_type": "stream",
     "text": [
      "Book2 Linesh 1900\n",
      "Book1 Swadhin 2000\n",
      "Book4 Deepak 2021\n"
     ]
    }
   ],
   "source": [
    "i1 = Item('Book1','Swadhin',2000)\n",
    "i2 = Item('Book2','Linesh',1900)\n",
    "i3 = Item('Book4','Deepak',2021)\n",
    "item_list = [i1,i2,i3]\n",
    "lib = Library(item_list)\n",
    "lib.sort_item_list_by_author()\n",
    "lib.sort_items_by_published_year()\n",
    "l1 = lib.getItemList()\n",
    "for i in l1:\n",
    "    print(i)"
   ]
  },
  {
   "cell_type": "code",
   "execution_count": 154,
   "id": "funny-cover",
   "metadata": {},
   "outputs": [],
   "source": [
    "list1 = ['ENG:WOR:2:0', 'AUS:CHAM:5:2', 'PAK:T20:5:1', 'AUS:WOR:2:1', 'SA:T20:5:0', 'IND:T20:5:3', 'PAK:WOR:2:0', 'SA:WOR:2:0', 'SA:CHAM:5:1', 'IND:WOR:2:1']\n",
    "def find_matches(con):\n",
    "    out = []\n",
    "    for i in list1:\n",
    "        if i.split(\":\")[0]==con:\n",
    "            out.append(i)\n",
    "    return out\n",
    "def max_wins():\n",
    "    out = dict()\n",
    "    out2 = dict()\n",
    "    for i in list1:\n",
    "        if i.split(\":\")[1] not in out:\n",
    "            out[i.split(\":\")[1]]=[]\n",
    "            out[i.split(\":\")[1]].append(i.split(\":\")[0]+\"-\"+i.split(\":\")[3])\n",
    "            out2[i.split(\":\")[1]]=[]\n",
    "            out2[i.split(\":\")[1]].append(i.split(\":\")[0])\n",
    "        else:\n",
    "            if int(i.split(\":\")[3])>int(out[i.split(\":\")[1]][0].split('-')[1]):\n",
    "                out[i.split(\":\")[1]]=[]\n",
    "                out[i.split(\":\")[1]].append(i.split(\":\")[0]+\"-\"+i.split(\":\")[3])\n",
    "                out2[i.split(\":\")[1]]=[]\n",
    "                out2[i.split(\":\")[1]].append(i.split(\":\")[0])\n",
    "            elif int(i.split(\":\")[3])==int(out[i.split(\":\")[1]][0].split('-')[1]):\n",
    "                out[i.split(\":\")[1]].append(i.split(\":\")[0]+\"-\"+i.split(\":\")[3])\n",
    "                out2[i.split(\":\")[1]].append(i.split(\":\")[0])\n",
    "    return out2\n",
    "def find_winner(con1,con2):\n",
    "    con1win=0\n",
    "    con2win=0\n",
    "    for i in list1:\n",
    "        if i.split(\":\")[0]==con1:\n",
    "            con1win = con1win+int(i.split(\":\")[3])\n",
    "        if i.split(\":\")[0]==con2:\n",
    "            con2win = con2win+int(i.split(\":\")[3])\n",
    "    if con1win>con2win:\n",
    "        return con1\n",
    "    else:\n",
    "        return con2\n",
    "    "
   ]
  },
  {
   "cell_type": "code",
   "execution_count": 148,
   "id": "meaning-startup",
   "metadata": {},
   "outputs": [
    {
     "name": "stdout",
     "output_type": "stream",
     "text": [
      "{'WOR': ['AUS', 'IND'], 'CHAM': ['AUS'], 'T20': ['IND']}\n",
      "IND\n"
     ]
    },
    {
     "data": {
      "text/plain": [
       "['IND:T20:5:3', 'IND:WOR:2:1']"
      ]
     },
     "execution_count": 148,
     "metadata": {},
     "output_type": "execute_result"
    }
   ],
   "source": [
    "print(max_wins())\n",
    "print(find_winner('AUS','IND'))\n",
    "find_matches('IND')"
   ]
  },
  {
   "cell_type": "code",
   "execution_count": 122,
   "id": "traditional-deployment",
   "metadata": {},
   "outputs": [
    {
     "data": {
      "text/plain": [
       "0"
      ]
     },
     "execution_count": 122,
     "metadata": {},
     "output_type": "execute_result"
    }
   ],
   "source": [
    "int(out['WOR'][0].split('-')[1])"
   ]
  },
  {
   "cell_type": "code",
   "execution_count": null,
   "id": "atlantic-religion",
   "metadata": {},
   "outputs": [],
   "source": []
  }
 ],
 "metadata": {
  "kernelspec": {
   "display_name": "Python 3",
   "language": "python",
   "name": "python3"
  },
  "language_info": {
   "codemirror_mode": {
    "name": "ipython",
    "version": 3
   },
   "file_extension": ".py",
   "mimetype": "text/x-python",
   "name": "python",
   "nbconvert_exporter": "python",
   "pygments_lexer": "ipython3",
   "version": "3.7.1"
  }
 },
 "nbformat": 4,
 "nbformat_minor": 5
}
